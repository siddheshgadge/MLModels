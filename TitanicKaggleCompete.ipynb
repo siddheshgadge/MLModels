{
  "nbformat": 4,
  "nbformat_minor": 0,
  "metadata": {
    "colab": {
      "name": "TitanicKaggleCompete.ipynb",
      "provenance": [],
      "collapsed_sections": [],
      "toc_visible": true
    },
    "kernelspec": {
      "name": "python3",
      "display_name": "Python 3"
    },
    "accelerator": "GPU"
  },
  "cells": [
    {
      "cell_type": "code",
      "metadata": {
        "id": "g-LLxZuW_1cd"
      },
      "source": [
        "import numpy as np\n",
        "import pandas as pd\n",
        "import matplotlib.pyplot as plt"
      ],
      "execution_count": null,
      "outputs": []
    },
    {
      "cell_type": "code",
      "metadata": {
        "id": "xI8H7NkHAQHw"
      },
      "source": [
        "df_train = pd.read_csv('/content/train.csv')\n",
        "df_test = pd.read_csv('/content/test.csv')"
      ],
      "execution_count": null,
      "outputs": []
    },
    {
      "cell_type": "code",
      "metadata": {
        "id": "LPuw-xzEAYxF",
        "colab": {
          "base_uri": "https://localhost:8080/",
          "height": 34
        },
        "outputId": "ead41c93-2e34-4962-c701-8756ddd30f9b"
      },
      "source": [
        "df_train.shape,df_test.shape"
      ],
      "execution_count": null,
      "outputs": [
        {
          "output_type": "execute_result",
          "data": {
            "text/plain": [
              "((891, 12), (418, 11))"
            ]
          },
          "metadata": {
            "tags": []
          },
          "execution_count": 3
        }
      ]
    },
    {
      "cell_type": "code",
      "metadata": {
        "id": "o13lHBC5AaRD",
        "colab": {
          "base_uri": "https://localhost:8080/",
          "height": 255
        },
        "outputId": "8ef2078c-e32e-4c57-e524-70e32a02f15f"
      },
      "source": [
        "df_train.head()"
      ],
      "execution_count": null,
      "outputs": [
        {
          "output_type": "execute_result",
          "data": {
            "text/html": [
              "<div>\n",
              "<style scoped>\n",
              "    .dataframe tbody tr th:only-of-type {\n",
              "        vertical-align: middle;\n",
              "    }\n",
              "\n",
              "    .dataframe tbody tr th {\n",
              "        vertical-align: top;\n",
              "    }\n",
              "\n",
              "    .dataframe thead th {\n",
              "        text-align: right;\n",
              "    }\n",
              "</style>\n",
              "<table border=\"1\" class=\"dataframe\">\n",
              "  <thead>\n",
              "    <tr style=\"text-align: right;\">\n",
              "      <th></th>\n",
              "      <th>PassengerId</th>\n",
              "      <th>Survived</th>\n",
              "      <th>Pclass</th>\n",
              "      <th>Name</th>\n",
              "      <th>Sex</th>\n",
              "      <th>Age</th>\n",
              "      <th>SibSp</th>\n",
              "      <th>Parch</th>\n",
              "      <th>Ticket</th>\n",
              "      <th>Fare</th>\n",
              "      <th>Cabin</th>\n",
              "      <th>Embarked</th>\n",
              "    </tr>\n",
              "  </thead>\n",
              "  <tbody>\n",
              "    <tr>\n",
              "      <th>0</th>\n",
              "      <td>1</td>\n",
              "      <td>0</td>\n",
              "      <td>3</td>\n",
              "      <td>Braund, Mr. Owen Harris</td>\n",
              "      <td>male</td>\n",
              "      <td>22.0</td>\n",
              "      <td>1</td>\n",
              "      <td>0</td>\n",
              "      <td>A/5 21171</td>\n",
              "      <td>7.2500</td>\n",
              "      <td>NaN</td>\n",
              "      <td>S</td>\n",
              "    </tr>\n",
              "    <tr>\n",
              "      <th>1</th>\n",
              "      <td>2</td>\n",
              "      <td>1</td>\n",
              "      <td>1</td>\n",
              "      <td>Cumings, Mrs. John Bradley (Florence Briggs Th...</td>\n",
              "      <td>female</td>\n",
              "      <td>38.0</td>\n",
              "      <td>1</td>\n",
              "      <td>0</td>\n",
              "      <td>PC 17599</td>\n",
              "      <td>71.2833</td>\n",
              "      <td>C85</td>\n",
              "      <td>C</td>\n",
              "    </tr>\n",
              "    <tr>\n",
              "      <th>2</th>\n",
              "      <td>3</td>\n",
              "      <td>1</td>\n",
              "      <td>3</td>\n",
              "      <td>Heikkinen, Miss. Laina</td>\n",
              "      <td>female</td>\n",
              "      <td>26.0</td>\n",
              "      <td>0</td>\n",
              "      <td>0</td>\n",
              "      <td>STON/O2. 3101282</td>\n",
              "      <td>7.9250</td>\n",
              "      <td>NaN</td>\n",
              "      <td>S</td>\n",
              "    </tr>\n",
              "    <tr>\n",
              "      <th>3</th>\n",
              "      <td>4</td>\n",
              "      <td>1</td>\n",
              "      <td>1</td>\n",
              "      <td>Futrelle, Mrs. Jacques Heath (Lily May Peel)</td>\n",
              "      <td>female</td>\n",
              "      <td>35.0</td>\n",
              "      <td>1</td>\n",
              "      <td>0</td>\n",
              "      <td>113803</td>\n",
              "      <td>53.1000</td>\n",
              "      <td>C123</td>\n",
              "      <td>S</td>\n",
              "    </tr>\n",
              "    <tr>\n",
              "      <th>4</th>\n",
              "      <td>5</td>\n",
              "      <td>0</td>\n",
              "      <td>3</td>\n",
              "      <td>Allen, Mr. William Henry</td>\n",
              "      <td>male</td>\n",
              "      <td>35.0</td>\n",
              "      <td>0</td>\n",
              "      <td>0</td>\n",
              "      <td>373450</td>\n",
              "      <td>8.0500</td>\n",
              "      <td>NaN</td>\n",
              "      <td>S</td>\n",
              "    </tr>\n",
              "  </tbody>\n",
              "</table>\n",
              "</div>"
            ],
            "text/plain": [
              "   PassengerId  Survived  Pclass  ...     Fare Cabin  Embarked\n",
              "0            1         0       3  ...   7.2500   NaN         S\n",
              "1            2         1       1  ...  71.2833   C85         C\n",
              "2            3         1       3  ...   7.9250   NaN         S\n",
              "3            4         1       1  ...  53.1000  C123         S\n",
              "4            5         0       3  ...   8.0500   NaN         S\n",
              "\n",
              "[5 rows x 12 columns]"
            ]
          },
          "metadata": {
            "tags": []
          },
          "execution_count": 4
        }
      ]
    },
    {
      "cell_type": "code",
      "metadata": {
        "id": "6R1_pFezAhyR",
        "colab": {
          "base_uri": "https://localhost:8080/",
          "height": 221
        },
        "outputId": "5418fb18-2815-4904-929b-3b772a29fb95"
      },
      "source": [
        "df_test.head()"
      ],
      "execution_count": null,
      "outputs": [
        {
          "output_type": "execute_result",
          "data": {
            "text/html": [
              "<div>\n",
              "<style scoped>\n",
              "    .dataframe tbody tr th:only-of-type {\n",
              "        vertical-align: middle;\n",
              "    }\n",
              "\n",
              "    .dataframe tbody tr th {\n",
              "        vertical-align: top;\n",
              "    }\n",
              "\n",
              "    .dataframe thead th {\n",
              "        text-align: right;\n",
              "    }\n",
              "</style>\n",
              "<table border=\"1\" class=\"dataframe\">\n",
              "  <thead>\n",
              "    <tr style=\"text-align: right;\">\n",
              "      <th></th>\n",
              "      <th>PassengerId</th>\n",
              "      <th>Pclass</th>\n",
              "      <th>Name</th>\n",
              "      <th>Sex</th>\n",
              "      <th>Age</th>\n",
              "      <th>SibSp</th>\n",
              "      <th>Parch</th>\n",
              "      <th>Ticket</th>\n",
              "      <th>Fare</th>\n",
              "      <th>Cabin</th>\n",
              "      <th>Embarked</th>\n",
              "    </tr>\n",
              "  </thead>\n",
              "  <tbody>\n",
              "    <tr>\n",
              "      <th>0</th>\n",
              "      <td>892</td>\n",
              "      <td>3</td>\n",
              "      <td>Kelly, Mr. James</td>\n",
              "      <td>male</td>\n",
              "      <td>34.5</td>\n",
              "      <td>0</td>\n",
              "      <td>0</td>\n",
              "      <td>330911</td>\n",
              "      <td>7.8292</td>\n",
              "      <td>NaN</td>\n",
              "      <td>Q</td>\n",
              "    </tr>\n",
              "    <tr>\n",
              "      <th>1</th>\n",
              "      <td>893</td>\n",
              "      <td>3</td>\n",
              "      <td>Wilkes, Mrs. James (Ellen Needs)</td>\n",
              "      <td>female</td>\n",
              "      <td>47.0</td>\n",
              "      <td>1</td>\n",
              "      <td>0</td>\n",
              "      <td>363272</td>\n",
              "      <td>7.0000</td>\n",
              "      <td>NaN</td>\n",
              "      <td>S</td>\n",
              "    </tr>\n",
              "    <tr>\n",
              "      <th>2</th>\n",
              "      <td>894</td>\n",
              "      <td>2</td>\n",
              "      <td>Myles, Mr. Thomas Francis</td>\n",
              "      <td>male</td>\n",
              "      <td>62.0</td>\n",
              "      <td>0</td>\n",
              "      <td>0</td>\n",
              "      <td>240276</td>\n",
              "      <td>9.6875</td>\n",
              "      <td>NaN</td>\n",
              "      <td>Q</td>\n",
              "    </tr>\n",
              "    <tr>\n",
              "      <th>3</th>\n",
              "      <td>895</td>\n",
              "      <td>3</td>\n",
              "      <td>Wirz, Mr. Albert</td>\n",
              "      <td>male</td>\n",
              "      <td>27.0</td>\n",
              "      <td>0</td>\n",
              "      <td>0</td>\n",
              "      <td>315154</td>\n",
              "      <td>8.6625</td>\n",
              "      <td>NaN</td>\n",
              "      <td>S</td>\n",
              "    </tr>\n",
              "    <tr>\n",
              "      <th>4</th>\n",
              "      <td>896</td>\n",
              "      <td>3</td>\n",
              "      <td>Hirvonen, Mrs. Alexander (Helga E Lindqvist)</td>\n",
              "      <td>female</td>\n",
              "      <td>22.0</td>\n",
              "      <td>1</td>\n",
              "      <td>1</td>\n",
              "      <td>3101298</td>\n",
              "      <td>12.2875</td>\n",
              "      <td>NaN</td>\n",
              "      <td>S</td>\n",
              "    </tr>\n",
              "  </tbody>\n",
              "</table>\n",
              "</div>"
            ],
            "text/plain": [
              "   PassengerId  Pclass  ... Cabin Embarked\n",
              "0          892       3  ...   NaN        Q\n",
              "1          893       3  ...   NaN        S\n",
              "2          894       2  ...   NaN        Q\n",
              "3          895       3  ...   NaN        S\n",
              "4          896       3  ...   NaN        S\n",
              "\n",
              "[5 rows x 11 columns]"
            ]
          },
          "metadata": {
            "tags": []
          },
          "execution_count": 5
        }
      ]
    },
    {
      "cell_type": "code",
      "metadata": {
        "id": "g7hny_lnAjdf"
      },
      "source": [
        "Id = df_test.iloc[:,0]"
      ],
      "execution_count": null,
      "outputs": []
    },
    {
      "cell_type": "code",
      "metadata": {
        "id": "i5Rz-_oWJRTM"
      },
      "source": [
        "df_train.drop([\"Ticket\",\"Cabin\"],axis = 1,inplace=True)\n",
        "df_test.drop([\"Ticket\",\"Cabin\"],axis = 1,inplace=True)"
      ],
      "execution_count": null,
      "outputs": []
    },
    {
      "cell_type": "code",
      "metadata": {
        "id": "L5t5xSAlJqU9",
        "colab": {
          "base_uri": "https://localhost:8080/",
          "height": 204
        },
        "outputId": "d1e26db1-ce7c-463a-ad4d-500ec52ac381"
      },
      "source": [
        "df_train.head()"
      ],
      "execution_count": null,
      "outputs": [
        {
          "output_type": "execute_result",
          "data": {
            "text/html": [
              "<div>\n",
              "<style scoped>\n",
              "    .dataframe tbody tr th:only-of-type {\n",
              "        vertical-align: middle;\n",
              "    }\n",
              "\n",
              "    .dataframe tbody tr th {\n",
              "        vertical-align: top;\n",
              "    }\n",
              "\n",
              "    .dataframe thead th {\n",
              "        text-align: right;\n",
              "    }\n",
              "</style>\n",
              "<table border=\"1\" class=\"dataframe\">\n",
              "  <thead>\n",
              "    <tr style=\"text-align: right;\">\n",
              "      <th></th>\n",
              "      <th>PassengerId</th>\n",
              "      <th>Survived</th>\n",
              "      <th>Pclass</th>\n",
              "      <th>Name</th>\n",
              "      <th>Sex</th>\n",
              "      <th>Age</th>\n",
              "      <th>SibSp</th>\n",
              "      <th>Parch</th>\n",
              "      <th>Fare</th>\n",
              "      <th>Embarked</th>\n",
              "    </tr>\n",
              "  </thead>\n",
              "  <tbody>\n",
              "    <tr>\n",
              "      <th>0</th>\n",
              "      <td>1</td>\n",
              "      <td>0</td>\n",
              "      <td>3</td>\n",
              "      <td>Braund, Mr. Owen Harris</td>\n",
              "      <td>male</td>\n",
              "      <td>22.0</td>\n",
              "      <td>1</td>\n",
              "      <td>0</td>\n",
              "      <td>7.2500</td>\n",
              "      <td>S</td>\n",
              "    </tr>\n",
              "    <tr>\n",
              "      <th>1</th>\n",
              "      <td>2</td>\n",
              "      <td>1</td>\n",
              "      <td>1</td>\n",
              "      <td>Cumings, Mrs. John Bradley (Florence Briggs Th...</td>\n",
              "      <td>female</td>\n",
              "      <td>38.0</td>\n",
              "      <td>1</td>\n",
              "      <td>0</td>\n",
              "      <td>71.2833</td>\n",
              "      <td>C</td>\n",
              "    </tr>\n",
              "    <tr>\n",
              "      <th>2</th>\n",
              "      <td>3</td>\n",
              "      <td>1</td>\n",
              "      <td>3</td>\n",
              "      <td>Heikkinen, Miss. Laina</td>\n",
              "      <td>female</td>\n",
              "      <td>26.0</td>\n",
              "      <td>0</td>\n",
              "      <td>0</td>\n",
              "      <td>7.9250</td>\n",
              "      <td>S</td>\n",
              "    </tr>\n",
              "    <tr>\n",
              "      <th>3</th>\n",
              "      <td>4</td>\n",
              "      <td>1</td>\n",
              "      <td>1</td>\n",
              "      <td>Futrelle, Mrs. Jacques Heath (Lily May Peel)</td>\n",
              "      <td>female</td>\n",
              "      <td>35.0</td>\n",
              "      <td>1</td>\n",
              "      <td>0</td>\n",
              "      <td>53.1000</td>\n",
              "      <td>S</td>\n",
              "    </tr>\n",
              "    <tr>\n",
              "      <th>4</th>\n",
              "      <td>5</td>\n",
              "      <td>0</td>\n",
              "      <td>3</td>\n",
              "      <td>Allen, Mr. William Henry</td>\n",
              "      <td>male</td>\n",
              "      <td>35.0</td>\n",
              "      <td>0</td>\n",
              "      <td>0</td>\n",
              "      <td>8.0500</td>\n",
              "      <td>S</td>\n",
              "    </tr>\n",
              "  </tbody>\n",
              "</table>\n",
              "</div>"
            ],
            "text/plain": [
              "   PassengerId  Survived  Pclass  ... Parch     Fare  Embarked\n",
              "0            1         0       3  ...     0   7.2500         S\n",
              "1            2         1       1  ...     0  71.2833         C\n",
              "2            3         1       3  ...     0   7.9250         S\n",
              "3            4         1       1  ...     0  53.1000         S\n",
              "4            5         0       3  ...     0   8.0500         S\n",
              "\n",
              "[5 rows x 10 columns]"
            ]
          },
          "metadata": {
            "tags": []
          },
          "execution_count": 8
        }
      ]
    },
    {
      "cell_type": "code",
      "metadata": {
        "id": "n3BG_pFcJsVT",
        "colab": {
          "base_uri": "https://localhost:8080/",
          "height": 204
        },
        "outputId": "d46183fe-6f78-4189-e1b7-c36e069c4b9e"
      },
      "source": [
        "df_test.head()"
      ],
      "execution_count": null,
      "outputs": [
        {
          "output_type": "execute_result",
          "data": {
            "text/html": [
              "<div>\n",
              "<style scoped>\n",
              "    .dataframe tbody tr th:only-of-type {\n",
              "        vertical-align: middle;\n",
              "    }\n",
              "\n",
              "    .dataframe tbody tr th {\n",
              "        vertical-align: top;\n",
              "    }\n",
              "\n",
              "    .dataframe thead th {\n",
              "        text-align: right;\n",
              "    }\n",
              "</style>\n",
              "<table border=\"1\" class=\"dataframe\">\n",
              "  <thead>\n",
              "    <tr style=\"text-align: right;\">\n",
              "      <th></th>\n",
              "      <th>PassengerId</th>\n",
              "      <th>Pclass</th>\n",
              "      <th>Name</th>\n",
              "      <th>Sex</th>\n",
              "      <th>Age</th>\n",
              "      <th>SibSp</th>\n",
              "      <th>Parch</th>\n",
              "      <th>Fare</th>\n",
              "      <th>Embarked</th>\n",
              "    </tr>\n",
              "  </thead>\n",
              "  <tbody>\n",
              "    <tr>\n",
              "      <th>0</th>\n",
              "      <td>892</td>\n",
              "      <td>3</td>\n",
              "      <td>Kelly, Mr. James</td>\n",
              "      <td>male</td>\n",
              "      <td>34.5</td>\n",
              "      <td>0</td>\n",
              "      <td>0</td>\n",
              "      <td>7.8292</td>\n",
              "      <td>Q</td>\n",
              "    </tr>\n",
              "    <tr>\n",
              "      <th>1</th>\n",
              "      <td>893</td>\n",
              "      <td>3</td>\n",
              "      <td>Wilkes, Mrs. James (Ellen Needs)</td>\n",
              "      <td>female</td>\n",
              "      <td>47.0</td>\n",
              "      <td>1</td>\n",
              "      <td>0</td>\n",
              "      <td>7.0000</td>\n",
              "      <td>S</td>\n",
              "    </tr>\n",
              "    <tr>\n",
              "      <th>2</th>\n",
              "      <td>894</td>\n",
              "      <td>2</td>\n",
              "      <td>Myles, Mr. Thomas Francis</td>\n",
              "      <td>male</td>\n",
              "      <td>62.0</td>\n",
              "      <td>0</td>\n",
              "      <td>0</td>\n",
              "      <td>9.6875</td>\n",
              "      <td>Q</td>\n",
              "    </tr>\n",
              "    <tr>\n",
              "      <th>3</th>\n",
              "      <td>895</td>\n",
              "      <td>3</td>\n",
              "      <td>Wirz, Mr. Albert</td>\n",
              "      <td>male</td>\n",
              "      <td>27.0</td>\n",
              "      <td>0</td>\n",
              "      <td>0</td>\n",
              "      <td>8.6625</td>\n",
              "      <td>S</td>\n",
              "    </tr>\n",
              "    <tr>\n",
              "      <th>4</th>\n",
              "      <td>896</td>\n",
              "      <td>3</td>\n",
              "      <td>Hirvonen, Mrs. Alexander (Helga E Lindqvist)</td>\n",
              "      <td>female</td>\n",
              "      <td>22.0</td>\n",
              "      <td>1</td>\n",
              "      <td>1</td>\n",
              "      <td>12.2875</td>\n",
              "      <td>S</td>\n",
              "    </tr>\n",
              "  </tbody>\n",
              "</table>\n",
              "</div>"
            ],
            "text/plain": [
              "   PassengerId  Pclass  ...     Fare Embarked\n",
              "0          892       3  ...   7.8292        Q\n",
              "1          893       3  ...   7.0000        S\n",
              "2          894       2  ...   9.6875        Q\n",
              "3          895       3  ...   8.6625        S\n",
              "4          896       3  ...  12.2875        S\n",
              "\n",
              "[5 rows x 9 columns]"
            ]
          },
          "metadata": {
            "tags": []
          },
          "execution_count": 9
        }
      ]
    },
    {
      "cell_type": "code",
      "metadata": {
        "id": "59SYYrzMJwMi"
      },
      "source": [
        "temp = df_train['Name'].values"
      ],
      "execution_count": null,
      "outputs": []
    },
    {
      "cell_type": "code",
      "metadata": {
        "id": "zznS5dzzJ5Ym"
      },
      "source": [
        "st=[]\n",
        "for i in temp:\n",
        "  a = i.split(\" \")\n",
        "  for k in a:\n",
        "    if \".\" in k:\n",
        "      st.append(k)\n",
        "      break"
      ],
      "execution_count": null,
      "outputs": []
    },
    {
      "cell_type": "code",
      "metadata": {
        "id": "gM7-C-RZKRxG"
      },
      "source": [
        "st = np.array(st)\n",
        "df_train[\"New_name\"]=st"
      ],
      "execution_count": null,
      "outputs": []
    },
    {
      "cell_type": "code",
      "metadata": {
        "id": "78RNvot_KUKp",
        "colab": {
          "base_uri": "https://localhost:8080/",
          "height": 68
        },
        "outputId": "c7140003-2682-4bb9-e7fb-7f214803377a"
      },
      "source": [
        "df_train['New_name'].unique()"
      ],
      "execution_count": null,
      "outputs": [
        {
          "output_type": "execute_result",
          "data": {
            "text/plain": [
              "array(['Mr.', 'Mrs.', 'Miss.', 'Master.', 'Don.', 'Rev.', 'Dr.', 'Mme.',\n",
              "       'Ms.', 'Major.', 'Lady.', 'Sir.', 'Mlle.', 'Col.', 'Capt.',\n",
              "       'Countess.', 'Jonkheer.'], dtype=object)"
            ]
          },
          "metadata": {
            "tags": []
          },
          "execution_count": 13
        }
      ]
    },
    {
      "cell_type": "code",
      "metadata": {
        "id": "ZmPrEdoLK-xa"
      },
      "source": [
        "temp1 = df_test['Name'].values"
      ],
      "execution_count": null,
      "outputs": []
    },
    {
      "cell_type": "code",
      "metadata": {
        "id": "EOWkLVraLJ7u"
      },
      "source": [
        "st2=[]\n",
        "for i in temp1:\n",
        "  a = i.split(\" \")\n",
        "  for k in a:\n",
        "    if \".\" in k:\n",
        "      if k=='Dona.':\n",
        "        k='Don.'\n",
        "      st2.append(k)\n",
        "      break"
      ],
      "execution_count": null,
      "outputs": []
    },
    {
      "cell_type": "code",
      "metadata": {
        "id": "VSJn3q2HLQaR"
      },
      "source": [
        "st2 = np.array(st2)\n",
        "df_test[\"New_name\"]=st2"
      ],
      "execution_count": null,
      "outputs": []
    },
    {
      "cell_type": "code",
      "metadata": {
        "id": "P6Wot8Y_LVqX",
        "colab": {
          "base_uri": "https://localhost:8080/",
          "height": 51
        },
        "outputId": "93e65ae9-d64a-4223-b603-6509d9dcfa85"
      },
      "source": [
        "df_test['New_name'].unique()"
      ],
      "execution_count": null,
      "outputs": [
        {
          "output_type": "execute_result",
          "data": {
            "text/plain": [
              "array(['Mr.', 'Mrs.', 'Miss.', 'Master.', 'Ms.', 'Col.', 'Rev.', 'Dr.',\n",
              "       'Don.'], dtype=object)"
            ]
          },
          "metadata": {
            "tags": []
          },
          "execution_count": 17
        }
      ]
    },
    {
      "cell_type": "code",
      "metadata": {
        "id": "DwuWPX8uLeqx"
      },
      "source": [
        "df_train.drop([\"Name\"],axis = 1,inplace=True)\n",
        "df_test.drop([\"Name\"],axis = 1,inplace=True)"
      ],
      "execution_count": null,
      "outputs": []
    },
    {
      "cell_type": "code",
      "metadata": {
        "id": "Yd6JMbGaLmjo",
        "colab": {
          "base_uri": "https://localhost:8080/",
          "height": 204
        },
        "outputId": "20e60206-6421-4ab5-a94c-34d1da23be76"
      },
      "source": [
        "df_train.head()"
      ],
      "execution_count": null,
      "outputs": [
        {
          "output_type": "execute_result",
          "data": {
            "text/html": [
              "<div>\n",
              "<style scoped>\n",
              "    .dataframe tbody tr th:only-of-type {\n",
              "        vertical-align: middle;\n",
              "    }\n",
              "\n",
              "    .dataframe tbody tr th {\n",
              "        vertical-align: top;\n",
              "    }\n",
              "\n",
              "    .dataframe thead th {\n",
              "        text-align: right;\n",
              "    }\n",
              "</style>\n",
              "<table border=\"1\" class=\"dataframe\">\n",
              "  <thead>\n",
              "    <tr style=\"text-align: right;\">\n",
              "      <th></th>\n",
              "      <th>PassengerId</th>\n",
              "      <th>Survived</th>\n",
              "      <th>Pclass</th>\n",
              "      <th>Sex</th>\n",
              "      <th>Age</th>\n",
              "      <th>SibSp</th>\n",
              "      <th>Parch</th>\n",
              "      <th>Fare</th>\n",
              "      <th>Embarked</th>\n",
              "      <th>New_name</th>\n",
              "    </tr>\n",
              "  </thead>\n",
              "  <tbody>\n",
              "    <tr>\n",
              "      <th>0</th>\n",
              "      <td>1</td>\n",
              "      <td>0</td>\n",
              "      <td>3</td>\n",
              "      <td>male</td>\n",
              "      <td>22.0</td>\n",
              "      <td>1</td>\n",
              "      <td>0</td>\n",
              "      <td>7.2500</td>\n",
              "      <td>S</td>\n",
              "      <td>Mr.</td>\n",
              "    </tr>\n",
              "    <tr>\n",
              "      <th>1</th>\n",
              "      <td>2</td>\n",
              "      <td>1</td>\n",
              "      <td>1</td>\n",
              "      <td>female</td>\n",
              "      <td>38.0</td>\n",
              "      <td>1</td>\n",
              "      <td>0</td>\n",
              "      <td>71.2833</td>\n",
              "      <td>C</td>\n",
              "      <td>Mrs.</td>\n",
              "    </tr>\n",
              "    <tr>\n",
              "      <th>2</th>\n",
              "      <td>3</td>\n",
              "      <td>1</td>\n",
              "      <td>3</td>\n",
              "      <td>female</td>\n",
              "      <td>26.0</td>\n",
              "      <td>0</td>\n",
              "      <td>0</td>\n",
              "      <td>7.9250</td>\n",
              "      <td>S</td>\n",
              "      <td>Miss.</td>\n",
              "    </tr>\n",
              "    <tr>\n",
              "      <th>3</th>\n",
              "      <td>4</td>\n",
              "      <td>1</td>\n",
              "      <td>1</td>\n",
              "      <td>female</td>\n",
              "      <td>35.0</td>\n",
              "      <td>1</td>\n",
              "      <td>0</td>\n",
              "      <td>53.1000</td>\n",
              "      <td>S</td>\n",
              "      <td>Mrs.</td>\n",
              "    </tr>\n",
              "    <tr>\n",
              "      <th>4</th>\n",
              "      <td>5</td>\n",
              "      <td>0</td>\n",
              "      <td>3</td>\n",
              "      <td>male</td>\n",
              "      <td>35.0</td>\n",
              "      <td>0</td>\n",
              "      <td>0</td>\n",
              "      <td>8.0500</td>\n",
              "      <td>S</td>\n",
              "      <td>Mr.</td>\n",
              "    </tr>\n",
              "  </tbody>\n",
              "</table>\n",
              "</div>"
            ],
            "text/plain": [
              "   PassengerId  Survived  Pclass     Sex  ...  Parch     Fare  Embarked  New_name\n",
              "0            1         0       3    male  ...      0   7.2500         S       Mr.\n",
              "1            2         1       1  female  ...      0  71.2833         C      Mrs.\n",
              "2            3         1       3  female  ...      0   7.9250         S     Miss.\n",
              "3            4         1       1  female  ...      0  53.1000         S      Mrs.\n",
              "4            5         0       3    male  ...      0   8.0500         S       Mr.\n",
              "\n",
              "[5 rows x 10 columns]"
            ]
          },
          "metadata": {
            "tags": []
          },
          "execution_count": 19
        }
      ]
    },
    {
      "cell_type": "code",
      "metadata": {
        "id": "xH7QeZ5cLo07",
        "colab": {
          "base_uri": "https://localhost:8080/",
          "height": 204
        },
        "outputId": "56ad32e7-000e-42ab-aa36-19fb402b05a8"
      },
      "source": [
        "df_test.head()"
      ],
      "execution_count": null,
      "outputs": [
        {
          "output_type": "execute_result",
          "data": {
            "text/html": [
              "<div>\n",
              "<style scoped>\n",
              "    .dataframe tbody tr th:only-of-type {\n",
              "        vertical-align: middle;\n",
              "    }\n",
              "\n",
              "    .dataframe tbody tr th {\n",
              "        vertical-align: top;\n",
              "    }\n",
              "\n",
              "    .dataframe thead th {\n",
              "        text-align: right;\n",
              "    }\n",
              "</style>\n",
              "<table border=\"1\" class=\"dataframe\">\n",
              "  <thead>\n",
              "    <tr style=\"text-align: right;\">\n",
              "      <th></th>\n",
              "      <th>PassengerId</th>\n",
              "      <th>Pclass</th>\n",
              "      <th>Sex</th>\n",
              "      <th>Age</th>\n",
              "      <th>SibSp</th>\n",
              "      <th>Parch</th>\n",
              "      <th>Fare</th>\n",
              "      <th>Embarked</th>\n",
              "      <th>New_name</th>\n",
              "    </tr>\n",
              "  </thead>\n",
              "  <tbody>\n",
              "    <tr>\n",
              "      <th>0</th>\n",
              "      <td>892</td>\n",
              "      <td>3</td>\n",
              "      <td>male</td>\n",
              "      <td>34.5</td>\n",
              "      <td>0</td>\n",
              "      <td>0</td>\n",
              "      <td>7.8292</td>\n",
              "      <td>Q</td>\n",
              "      <td>Mr.</td>\n",
              "    </tr>\n",
              "    <tr>\n",
              "      <th>1</th>\n",
              "      <td>893</td>\n",
              "      <td>3</td>\n",
              "      <td>female</td>\n",
              "      <td>47.0</td>\n",
              "      <td>1</td>\n",
              "      <td>0</td>\n",
              "      <td>7.0000</td>\n",
              "      <td>S</td>\n",
              "      <td>Mrs.</td>\n",
              "    </tr>\n",
              "    <tr>\n",
              "      <th>2</th>\n",
              "      <td>894</td>\n",
              "      <td>2</td>\n",
              "      <td>male</td>\n",
              "      <td>62.0</td>\n",
              "      <td>0</td>\n",
              "      <td>0</td>\n",
              "      <td>9.6875</td>\n",
              "      <td>Q</td>\n",
              "      <td>Mr.</td>\n",
              "    </tr>\n",
              "    <tr>\n",
              "      <th>3</th>\n",
              "      <td>895</td>\n",
              "      <td>3</td>\n",
              "      <td>male</td>\n",
              "      <td>27.0</td>\n",
              "      <td>0</td>\n",
              "      <td>0</td>\n",
              "      <td>8.6625</td>\n",
              "      <td>S</td>\n",
              "      <td>Mr.</td>\n",
              "    </tr>\n",
              "    <tr>\n",
              "      <th>4</th>\n",
              "      <td>896</td>\n",
              "      <td>3</td>\n",
              "      <td>female</td>\n",
              "      <td>22.0</td>\n",
              "      <td>1</td>\n",
              "      <td>1</td>\n",
              "      <td>12.2875</td>\n",
              "      <td>S</td>\n",
              "      <td>Mrs.</td>\n",
              "    </tr>\n",
              "  </tbody>\n",
              "</table>\n",
              "</div>"
            ],
            "text/plain": [
              "   PassengerId  Pclass     Sex   Age  SibSp  Parch     Fare Embarked New_name\n",
              "0          892       3    male  34.5      0      0   7.8292        Q      Mr.\n",
              "1          893       3  female  47.0      1      0   7.0000        S     Mrs.\n",
              "2          894       2    male  62.0      0      0   9.6875        Q      Mr.\n",
              "3          895       3    male  27.0      0      0   8.6625        S      Mr.\n",
              "4          896       3  female  22.0      1      1  12.2875        S     Mrs."
            ]
          },
          "metadata": {
            "tags": []
          },
          "execution_count": 20
        }
      ]
    },
    {
      "cell_type": "code",
      "metadata": {
        "id": "8v_CAxFvO24Q",
        "colab": {
          "base_uri": "https://localhost:8080/",
          "height": 204
        },
        "outputId": "79927e03-28ad-43e5-93a9-7e5fd36d9b05"
      },
      "source": [
        "df_train.isnull().sum()"
      ],
      "execution_count": null,
      "outputs": [
        {
          "output_type": "execute_result",
          "data": {
            "text/plain": [
              "PassengerId      0\n",
              "Survived         0\n",
              "Pclass           0\n",
              "Sex              0\n",
              "Age            177\n",
              "SibSp            0\n",
              "Parch            0\n",
              "Fare             0\n",
              "Embarked         2\n",
              "New_name         0\n",
              "dtype: int64"
            ]
          },
          "metadata": {
            "tags": []
          },
          "execution_count": 21
        }
      ]
    },
    {
      "cell_type": "code",
      "metadata": {
        "id": "ybc6XGalO_wQ"
      },
      "source": [
        "embarked =list(df_train['Embarked'].mode())"
      ],
      "execution_count": null,
      "outputs": []
    },
    {
      "cell_type": "code",
      "metadata": {
        "id": "-VnxTeVAPGSO"
      },
      "source": [
        "df_train['Age'].fillna(df_train['Age'].mean(),inplace=True)\n",
        "df_train['Embarked'].fillna(embarked[0],inplace=True)"
      ],
      "execution_count": null,
      "outputs": []
    },
    {
      "cell_type": "code",
      "metadata": {
        "id": "4OrD9q3VPXOf",
        "colab": {
          "base_uri": "https://localhost:8080/",
          "height": 204
        },
        "outputId": "5cd2998b-319a-49f3-e0de-8ae2ecd5a700"
      },
      "source": [
        "df_train.isnull().sum()"
      ],
      "execution_count": null,
      "outputs": [
        {
          "output_type": "execute_result",
          "data": {
            "text/plain": [
              "PassengerId    0\n",
              "Survived       0\n",
              "Pclass         0\n",
              "Sex            0\n",
              "Age            0\n",
              "SibSp          0\n",
              "Parch          0\n",
              "Fare           0\n",
              "Embarked       0\n",
              "New_name       0\n",
              "dtype: int64"
            ]
          },
          "metadata": {
            "tags": []
          },
          "execution_count": 24
        }
      ]
    },
    {
      "cell_type": "code",
      "metadata": {
        "id": "pmXOeohjPbbs",
        "colab": {
          "base_uri": "https://localhost:8080/",
          "height": 187
        },
        "outputId": "6c4aead0-3e77-4f27-abad-bc10c4f60f8b"
      },
      "source": [
        "df_test.isnull().sum()"
      ],
      "execution_count": null,
      "outputs": [
        {
          "output_type": "execute_result",
          "data": {
            "text/plain": [
              "PassengerId     0\n",
              "Pclass          0\n",
              "Sex             0\n",
              "Age            86\n",
              "SibSp           0\n",
              "Parch           0\n",
              "Fare            1\n",
              "Embarked        0\n",
              "New_name        0\n",
              "dtype: int64"
            ]
          },
          "metadata": {
            "tags": []
          },
          "execution_count": 25
        }
      ]
    },
    {
      "cell_type": "code",
      "metadata": {
        "id": "vPuf20TBPi94"
      },
      "source": [
        "\n",
        "\n",
        "df_test['Age'].fillna(df_test['Age'].mean(),inplace=True)\n",
        "df_test['Fare'].fillna(df_test['Fare'].mean(),inplace=True)"
      ],
      "execution_count": null,
      "outputs": []
    },
    {
      "cell_type": "code",
      "metadata": {
        "id": "Uflg1TWCPzfj",
        "colab": {
          "base_uri": "https://localhost:8080/",
          "height": 187
        },
        "outputId": "62a66989-68b4-4215-a2e7-531a8363389e"
      },
      "source": [
        "df_test.isnull().sum()"
      ],
      "execution_count": null,
      "outputs": [
        {
          "output_type": "execute_result",
          "data": {
            "text/plain": [
              "PassengerId    0\n",
              "Pclass         0\n",
              "Sex            0\n",
              "Age            0\n",
              "SibSp          0\n",
              "Parch          0\n",
              "Fare           0\n",
              "Embarked       0\n",
              "New_name       0\n",
              "dtype: int64"
            ]
          },
          "metadata": {
            "tags": []
          },
          "execution_count": 27
        }
      ]
    },
    {
      "cell_type": "code",
      "metadata": {
        "id": "dUJ2TXgLRJLo",
        "colab": {
          "base_uri": "https://localhost:8080/",
          "height": 204
        },
        "outputId": "9fa0a360-6fa4-419a-e887-efdece542768"
      },
      "source": [
        "df_train.head()"
      ],
      "execution_count": null,
      "outputs": [
        {
          "output_type": "execute_result",
          "data": {
            "text/html": [
              "<div>\n",
              "<style scoped>\n",
              "    .dataframe tbody tr th:only-of-type {\n",
              "        vertical-align: middle;\n",
              "    }\n",
              "\n",
              "    .dataframe tbody tr th {\n",
              "        vertical-align: top;\n",
              "    }\n",
              "\n",
              "    .dataframe thead th {\n",
              "        text-align: right;\n",
              "    }\n",
              "</style>\n",
              "<table border=\"1\" class=\"dataframe\">\n",
              "  <thead>\n",
              "    <tr style=\"text-align: right;\">\n",
              "      <th></th>\n",
              "      <th>PassengerId</th>\n",
              "      <th>Survived</th>\n",
              "      <th>Pclass</th>\n",
              "      <th>Sex</th>\n",
              "      <th>Age</th>\n",
              "      <th>SibSp</th>\n",
              "      <th>Parch</th>\n",
              "      <th>Fare</th>\n",
              "      <th>Embarked</th>\n",
              "      <th>New_name</th>\n",
              "    </tr>\n",
              "  </thead>\n",
              "  <tbody>\n",
              "    <tr>\n",
              "      <th>0</th>\n",
              "      <td>1</td>\n",
              "      <td>0</td>\n",
              "      <td>3</td>\n",
              "      <td>male</td>\n",
              "      <td>22.0</td>\n",
              "      <td>1</td>\n",
              "      <td>0</td>\n",
              "      <td>7.2500</td>\n",
              "      <td>S</td>\n",
              "      <td>Mr.</td>\n",
              "    </tr>\n",
              "    <tr>\n",
              "      <th>1</th>\n",
              "      <td>2</td>\n",
              "      <td>1</td>\n",
              "      <td>1</td>\n",
              "      <td>female</td>\n",
              "      <td>38.0</td>\n",
              "      <td>1</td>\n",
              "      <td>0</td>\n",
              "      <td>71.2833</td>\n",
              "      <td>C</td>\n",
              "      <td>Mrs.</td>\n",
              "    </tr>\n",
              "    <tr>\n",
              "      <th>2</th>\n",
              "      <td>3</td>\n",
              "      <td>1</td>\n",
              "      <td>3</td>\n",
              "      <td>female</td>\n",
              "      <td>26.0</td>\n",
              "      <td>0</td>\n",
              "      <td>0</td>\n",
              "      <td>7.9250</td>\n",
              "      <td>S</td>\n",
              "      <td>Miss.</td>\n",
              "    </tr>\n",
              "    <tr>\n",
              "      <th>3</th>\n",
              "      <td>4</td>\n",
              "      <td>1</td>\n",
              "      <td>1</td>\n",
              "      <td>female</td>\n",
              "      <td>35.0</td>\n",
              "      <td>1</td>\n",
              "      <td>0</td>\n",
              "      <td>53.1000</td>\n",
              "      <td>S</td>\n",
              "      <td>Mrs.</td>\n",
              "    </tr>\n",
              "    <tr>\n",
              "      <th>4</th>\n",
              "      <td>5</td>\n",
              "      <td>0</td>\n",
              "      <td>3</td>\n",
              "      <td>male</td>\n",
              "      <td>35.0</td>\n",
              "      <td>0</td>\n",
              "      <td>0</td>\n",
              "      <td>8.0500</td>\n",
              "      <td>S</td>\n",
              "      <td>Mr.</td>\n",
              "    </tr>\n",
              "  </tbody>\n",
              "</table>\n",
              "</div>"
            ],
            "text/plain": [
              "   PassengerId  Survived  Pclass     Sex  ...  Parch     Fare  Embarked  New_name\n",
              "0            1         0       3    male  ...      0   7.2500         S       Mr.\n",
              "1            2         1       1  female  ...      0  71.2833         C      Mrs.\n",
              "2            3         1       3  female  ...      0   7.9250         S     Miss.\n",
              "3            4         1       1  female  ...      0  53.1000         S      Mrs.\n",
              "4            5         0       3    male  ...      0   8.0500         S       Mr.\n",
              "\n",
              "[5 rows x 10 columns]"
            ]
          },
          "metadata": {
            "tags": []
          },
          "execution_count": 28
        }
      ]
    },
    {
      "cell_type": "code",
      "metadata": {
        "id": "xYAjUC9oNb_u"
      },
      "source": [
        "from sklearn.preprocessing import LabelEncoder\n",
        "le_S = LabelEncoder()\n",
        "le_E = LabelEncoder()\n",
        "le_N = LabelEncoder()"
      ],
      "execution_count": null,
      "outputs": []
    },
    {
      "cell_type": "code",
      "metadata": {
        "id": "TvdqeFlIOXN6"
      },
      "source": [
        "df_train['Sex'] = le_S.fit_transform(df_train['Sex'])\n",
        "df_train['Embarked'] = le_E.fit_transform(df_train['Embarked'])\n",
        "df_train['New_name'] = le_N.fit_transform(df_train['New_name'])"
      ],
      "execution_count": null,
      "outputs": []
    },
    {
      "cell_type": "code",
      "metadata": {
        "id": "SJYSIyqe-BYp"
      },
      "source": [
        "df_test['Sex'] = le_S.transform(df_test['Sex'])\n",
        "df_test['Embarked'] = le_E.transform(df_test['Embarked'])\n",
        "df_test['New_name'] = le_N.transform(df_test['New_name'])"
      ],
      "execution_count": null,
      "outputs": []
    },
    {
      "cell_type": "code",
      "metadata": {
        "id": "5zjrSVDMP7Hr",
        "colab": {
          "base_uri": "https://localhost:8080/",
          "height": 204
        },
        "outputId": "202eb8eb-bee2-405c-8679-19a68544569b"
      },
      "source": [
        "df_train.head()"
      ],
      "execution_count": null,
      "outputs": [
        {
          "output_type": "execute_result",
          "data": {
            "text/html": [
              "<div>\n",
              "<style scoped>\n",
              "    .dataframe tbody tr th:only-of-type {\n",
              "        vertical-align: middle;\n",
              "    }\n",
              "\n",
              "    .dataframe tbody tr th {\n",
              "        vertical-align: top;\n",
              "    }\n",
              "\n",
              "    .dataframe thead th {\n",
              "        text-align: right;\n",
              "    }\n",
              "</style>\n",
              "<table border=\"1\" class=\"dataframe\">\n",
              "  <thead>\n",
              "    <tr style=\"text-align: right;\">\n",
              "      <th></th>\n",
              "      <th>PassengerId</th>\n",
              "      <th>Survived</th>\n",
              "      <th>Pclass</th>\n",
              "      <th>Sex</th>\n",
              "      <th>Age</th>\n",
              "      <th>SibSp</th>\n",
              "      <th>Parch</th>\n",
              "      <th>Fare</th>\n",
              "      <th>Embarked</th>\n",
              "      <th>New_name</th>\n",
              "    </tr>\n",
              "  </thead>\n",
              "  <tbody>\n",
              "    <tr>\n",
              "      <th>0</th>\n",
              "      <td>1</td>\n",
              "      <td>0</td>\n",
              "      <td>3</td>\n",
              "      <td>1</td>\n",
              "      <td>22.0</td>\n",
              "      <td>1</td>\n",
              "      <td>0</td>\n",
              "      <td>7.2500</td>\n",
              "      <td>2</td>\n",
              "      <td>12</td>\n",
              "    </tr>\n",
              "    <tr>\n",
              "      <th>1</th>\n",
              "      <td>2</td>\n",
              "      <td>1</td>\n",
              "      <td>1</td>\n",
              "      <td>0</td>\n",
              "      <td>38.0</td>\n",
              "      <td>1</td>\n",
              "      <td>0</td>\n",
              "      <td>71.2833</td>\n",
              "      <td>0</td>\n",
              "      <td>13</td>\n",
              "    </tr>\n",
              "    <tr>\n",
              "      <th>2</th>\n",
              "      <td>3</td>\n",
              "      <td>1</td>\n",
              "      <td>3</td>\n",
              "      <td>0</td>\n",
              "      <td>26.0</td>\n",
              "      <td>0</td>\n",
              "      <td>0</td>\n",
              "      <td>7.9250</td>\n",
              "      <td>2</td>\n",
              "      <td>9</td>\n",
              "    </tr>\n",
              "    <tr>\n",
              "      <th>3</th>\n",
              "      <td>4</td>\n",
              "      <td>1</td>\n",
              "      <td>1</td>\n",
              "      <td>0</td>\n",
              "      <td>35.0</td>\n",
              "      <td>1</td>\n",
              "      <td>0</td>\n",
              "      <td>53.1000</td>\n",
              "      <td>2</td>\n",
              "      <td>13</td>\n",
              "    </tr>\n",
              "    <tr>\n",
              "      <th>4</th>\n",
              "      <td>5</td>\n",
              "      <td>0</td>\n",
              "      <td>3</td>\n",
              "      <td>1</td>\n",
              "      <td>35.0</td>\n",
              "      <td>0</td>\n",
              "      <td>0</td>\n",
              "      <td>8.0500</td>\n",
              "      <td>2</td>\n",
              "      <td>12</td>\n",
              "    </tr>\n",
              "  </tbody>\n",
              "</table>\n",
              "</div>"
            ],
            "text/plain": [
              "   PassengerId  Survived  Pclass  Sex  ...  Parch     Fare  Embarked  New_name\n",
              "0            1         0       3    1  ...      0   7.2500         2        12\n",
              "1            2         1       1    0  ...      0  71.2833         0        13\n",
              "2            3         1       3    0  ...      0   7.9250         2         9\n",
              "3            4         1       1    0  ...      0  53.1000         2        13\n",
              "4            5         0       3    1  ...      0   8.0500         2        12\n",
              "\n",
              "[5 rows x 10 columns]"
            ]
          },
          "metadata": {
            "tags": []
          },
          "execution_count": 32
        }
      ]
    },
    {
      "cell_type": "code",
      "metadata": {
        "id": "fgiu4Bn8QRXC",
        "colab": {
          "base_uri": "https://localhost:8080/",
          "height": 204
        },
        "outputId": "d013bf1b-e076-48fe-b0d1-c552ae41dc64"
      },
      "source": [
        "df_test.head()"
      ],
      "execution_count": null,
      "outputs": [
        {
          "output_type": "execute_result",
          "data": {
            "text/html": [
              "<div>\n",
              "<style scoped>\n",
              "    .dataframe tbody tr th:only-of-type {\n",
              "        vertical-align: middle;\n",
              "    }\n",
              "\n",
              "    .dataframe tbody tr th {\n",
              "        vertical-align: top;\n",
              "    }\n",
              "\n",
              "    .dataframe thead th {\n",
              "        text-align: right;\n",
              "    }\n",
              "</style>\n",
              "<table border=\"1\" class=\"dataframe\">\n",
              "  <thead>\n",
              "    <tr style=\"text-align: right;\">\n",
              "      <th></th>\n",
              "      <th>PassengerId</th>\n",
              "      <th>Pclass</th>\n",
              "      <th>Sex</th>\n",
              "      <th>Age</th>\n",
              "      <th>SibSp</th>\n",
              "      <th>Parch</th>\n",
              "      <th>Fare</th>\n",
              "      <th>Embarked</th>\n",
              "      <th>New_name</th>\n",
              "    </tr>\n",
              "  </thead>\n",
              "  <tbody>\n",
              "    <tr>\n",
              "      <th>0</th>\n",
              "      <td>892</td>\n",
              "      <td>3</td>\n",
              "      <td>1</td>\n",
              "      <td>34.5</td>\n",
              "      <td>0</td>\n",
              "      <td>0</td>\n",
              "      <td>7.8292</td>\n",
              "      <td>1</td>\n",
              "      <td>12</td>\n",
              "    </tr>\n",
              "    <tr>\n",
              "      <th>1</th>\n",
              "      <td>893</td>\n",
              "      <td>3</td>\n",
              "      <td>0</td>\n",
              "      <td>47.0</td>\n",
              "      <td>1</td>\n",
              "      <td>0</td>\n",
              "      <td>7.0000</td>\n",
              "      <td>2</td>\n",
              "      <td>13</td>\n",
              "    </tr>\n",
              "    <tr>\n",
              "      <th>2</th>\n",
              "      <td>894</td>\n",
              "      <td>2</td>\n",
              "      <td>1</td>\n",
              "      <td>62.0</td>\n",
              "      <td>0</td>\n",
              "      <td>0</td>\n",
              "      <td>9.6875</td>\n",
              "      <td>1</td>\n",
              "      <td>12</td>\n",
              "    </tr>\n",
              "    <tr>\n",
              "      <th>3</th>\n",
              "      <td>895</td>\n",
              "      <td>3</td>\n",
              "      <td>1</td>\n",
              "      <td>27.0</td>\n",
              "      <td>0</td>\n",
              "      <td>0</td>\n",
              "      <td>8.6625</td>\n",
              "      <td>2</td>\n",
              "      <td>12</td>\n",
              "    </tr>\n",
              "    <tr>\n",
              "      <th>4</th>\n",
              "      <td>896</td>\n",
              "      <td>3</td>\n",
              "      <td>0</td>\n",
              "      <td>22.0</td>\n",
              "      <td>1</td>\n",
              "      <td>1</td>\n",
              "      <td>12.2875</td>\n",
              "      <td>2</td>\n",
              "      <td>13</td>\n",
              "    </tr>\n",
              "  </tbody>\n",
              "</table>\n",
              "</div>"
            ],
            "text/plain": [
              "   PassengerId  Pclass  Sex   Age  SibSp  Parch     Fare  Embarked  New_name\n",
              "0          892       3    1  34.5      0      0   7.8292         1        12\n",
              "1          893       3    0  47.0      1      0   7.0000         2        13\n",
              "2          894       2    1  62.0      0      0   9.6875         1        12\n",
              "3          895       3    1  27.0      0      0   8.6625         2        12\n",
              "4          896       3    0  22.0      1      1  12.2875         2        13"
            ]
          },
          "metadata": {
            "tags": []
          },
          "execution_count": 33
        }
      ]
    },
    {
      "cell_type": "code",
      "metadata": {
        "id": "JC1QiRTJT53i"
      },
      "source": [
        "dummies = []\n",
        "cols = ['Pclass', 'Sex', 'Embarked']\n",
        "for col in cols:\n",
        "    dummies.append(pd.get_dummies(df_train[col]))"
      ],
      "execution_count": null,
      "outputs": []
    },
    {
      "cell_type": "code",
      "metadata": {
        "id": "173EBSPCU7Wm"
      },
      "source": [
        "dummies2 = []\n",
        "cols2 = ['Pclass', 'Sex', 'Embarked']\n",
        "for col2 in cols2:\n",
        "    dummies2.append(pd.get_dummies(df_test[col2]))"
      ],
      "execution_count": null,
      "outputs": []
    },
    {
      "cell_type": "code",
      "metadata": {
        "id": "I2a2pX2kU7Tc"
      },
      "source": [
        "titanic_dummies2 = pd.concat(dummies2, axis=1)"
      ],
      "execution_count": null,
      "outputs": []
    },
    {
      "cell_type": "code",
      "metadata": {
        "id": "X2j6T9z1UE4i"
      },
      "source": [
        "\n",
        "\n",
        "titanic_dummies = pd.concat(dummies, axis=1)"
      ],
      "execution_count": null,
      "outputs": []
    },
    {
      "cell_type": "code",
      "metadata": {
        "id": "dyBDqEgNUK1g"
      },
      "source": [
        "df_train = pd.concat((df_train,titanic_dummies), axis=1)"
      ],
      "execution_count": null,
      "outputs": []
    },
    {
      "cell_type": "code",
      "metadata": {
        "id": "s8K2gtdrVKCO"
      },
      "source": [
        "df_test = pd.concat((df_test,titanic_dummies2), axis=1)"
      ],
      "execution_count": null,
      "outputs": []
    },
    {
      "cell_type": "code",
      "metadata": {
        "id": "m9Pz7asLURGX"
      },
      "source": [
        "df_train = df_train.drop(['Pclass', 'Sex', 'Embarked'], axis=1)"
      ],
      "execution_count": null,
      "outputs": []
    },
    {
      "cell_type": "code",
      "metadata": {
        "id": "8cqc0SWjVSCx"
      },
      "source": [
        "df_test = df_test.drop(['Pclass', 'Sex', 'Embarked'], axis=1)"
      ],
      "execution_count": null,
      "outputs": []
    },
    {
      "cell_type": "code",
      "metadata": {
        "id": "urpWhAcyUjur",
        "colab": {
          "base_uri": "https://localhost:8080/",
          "height": 204
        },
        "outputId": "d33a7bc4-57a0-4c99-a0f8-c87bbbb2300a"
      },
      "source": [
        "df_train.head()"
      ],
      "execution_count": null,
      "outputs": [
        {
          "output_type": "execute_result",
          "data": {
            "text/html": [
              "<div>\n",
              "<style scoped>\n",
              "    .dataframe tbody tr th:only-of-type {\n",
              "        vertical-align: middle;\n",
              "    }\n",
              "\n",
              "    .dataframe tbody tr th {\n",
              "        vertical-align: top;\n",
              "    }\n",
              "\n",
              "    .dataframe thead th {\n",
              "        text-align: right;\n",
              "    }\n",
              "</style>\n",
              "<table border=\"1\" class=\"dataframe\">\n",
              "  <thead>\n",
              "    <tr style=\"text-align: right;\">\n",
              "      <th></th>\n",
              "      <th>PassengerId</th>\n",
              "      <th>Survived</th>\n",
              "      <th>Age</th>\n",
              "      <th>SibSp</th>\n",
              "      <th>Parch</th>\n",
              "      <th>Fare</th>\n",
              "      <th>New_name</th>\n",
              "      <th>1</th>\n",
              "      <th>2</th>\n",
              "      <th>3</th>\n",
              "      <th>0</th>\n",
              "      <th>1</th>\n",
              "      <th>0</th>\n",
              "      <th>1</th>\n",
              "      <th>2</th>\n",
              "    </tr>\n",
              "  </thead>\n",
              "  <tbody>\n",
              "    <tr>\n",
              "      <th>0</th>\n",
              "      <td>1</td>\n",
              "      <td>0</td>\n",
              "      <td>22.0</td>\n",
              "      <td>1</td>\n",
              "      <td>0</td>\n",
              "      <td>7.2500</td>\n",
              "      <td>12</td>\n",
              "      <td>0</td>\n",
              "      <td>0</td>\n",
              "      <td>1</td>\n",
              "      <td>0</td>\n",
              "      <td>1</td>\n",
              "      <td>0</td>\n",
              "      <td>0</td>\n",
              "      <td>1</td>\n",
              "    </tr>\n",
              "    <tr>\n",
              "      <th>1</th>\n",
              "      <td>2</td>\n",
              "      <td>1</td>\n",
              "      <td>38.0</td>\n",
              "      <td>1</td>\n",
              "      <td>0</td>\n",
              "      <td>71.2833</td>\n",
              "      <td>13</td>\n",
              "      <td>1</td>\n",
              "      <td>0</td>\n",
              "      <td>0</td>\n",
              "      <td>1</td>\n",
              "      <td>0</td>\n",
              "      <td>1</td>\n",
              "      <td>0</td>\n",
              "      <td>0</td>\n",
              "    </tr>\n",
              "    <tr>\n",
              "      <th>2</th>\n",
              "      <td>3</td>\n",
              "      <td>1</td>\n",
              "      <td>26.0</td>\n",
              "      <td>0</td>\n",
              "      <td>0</td>\n",
              "      <td>7.9250</td>\n",
              "      <td>9</td>\n",
              "      <td>0</td>\n",
              "      <td>0</td>\n",
              "      <td>1</td>\n",
              "      <td>1</td>\n",
              "      <td>0</td>\n",
              "      <td>0</td>\n",
              "      <td>0</td>\n",
              "      <td>1</td>\n",
              "    </tr>\n",
              "    <tr>\n",
              "      <th>3</th>\n",
              "      <td>4</td>\n",
              "      <td>1</td>\n",
              "      <td>35.0</td>\n",
              "      <td>1</td>\n",
              "      <td>0</td>\n",
              "      <td>53.1000</td>\n",
              "      <td>13</td>\n",
              "      <td>1</td>\n",
              "      <td>0</td>\n",
              "      <td>0</td>\n",
              "      <td>1</td>\n",
              "      <td>0</td>\n",
              "      <td>0</td>\n",
              "      <td>0</td>\n",
              "      <td>1</td>\n",
              "    </tr>\n",
              "    <tr>\n",
              "      <th>4</th>\n",
              "      <td>5</td>\n",
              "      <td>0</td>\n",
              "      <td>35.0</td>\n",
              "      <td>0</td>\n",
              "      <td>0</td>\n",
              "      <td>8.0500</td>\n",
              "      <td>12</td>\n",
              "      <td>0</td>\n",
              "      <td>0</td>\n",
              "      <td>1</td>\n",
              "      <td>0</td>\n",
              "      <td>1</td>\n",
              "      <td>0</td>\n",
              "      <td>0</td>\n",
              "      <td>1</td>\n",
              "    </tr>\n",
              "  </tbody>\n",
              "</table>\n",
              "</div>"
            ],
            "text/plain": [
              "   PassengerId  Survived   Age  SibSp  Parch     Fare  ...  3  0  1  0  1  2\n",
              "0            1         0  22.0      1      0   7.2500  ...  1  0  1  0  0  1\n",
              "1            2         1  38.0      1      0  71.2833  ...  0  1  0  1  0  0\n",
              "2            3         1  26.0      0      0   7.9250  ...  1  1  0  0  0  1\n",
              "3            4         1  35.0      1      0  53.1000  ...  0  1  0  0  0  1\n",
              "4            5         0  35.0      0      0   8.0500  ...  1  0  1  0  0  1\n",
              "\n",
              "[5 rows x 15 columns]"
            ]
          },
          "metadata": {
            "tags": []
          },
          "execution_count": 42
        }
      ]
    },
    {
      "cell_type": "code",
      "metadata": {
        "id": "LdoDJr3xVXA2",
        "colab": {
          "base_uri": "https://localhost:8080/",
          "height": 204
        },
        "outputId": "6f0ed5e6-a37a-4092-ebe5-b7a6f16e3fdb"
      },
      "source": [
        "df_test.head()"
      ],
      "execution_count": null,
      "outputs": [
        {
          "output_type": "execute_result",
          "data": {
            "text/html": [
              "<div>\n",
              "<style scoped>\n",
              "    .dataframe tbody tr th:only-of-type {\n",
              "        vertical-align: middle;\n",
              "    }\n",
              "\n",
              "    .dataframe tbody tr th {\n",
              "        vertical-align: top;\n",
              "    }\n",
              "\n",
              "    .dataframe thead th {\n",
              "        text-align: right;\n",
              "    }\n",
              "</style>\n",
              "<table border=\"1\" class=\"dataframe\">\n",
              "  <thead>\n",
              "    <tr style=\"text-align: right;\">\n",
              "      <th></th>\n",
              "      <th>PassengerId</th>\n",
              "      <th>Age</th>\n",
              "      <th>SibSp</th>\n",
              "      <th>Parch</th>\n",
              "      <th>Fare</th>\n",
              "      <th>New_name</th>\n",
              "      <th>1</th>\n",
              "      <th>2</th>\n",
              "      <th>3</th>\n",
              "      <th>0</th>\n",
              "      <th>1</th>\n",
              "      <th>0</th>\n",
              "      <th>1</th>\n",
              "      <th>2</th>\n",
              "    </tr>\n",
              "  </thead>\n",
              "  <tbody>\n",
              "    <tr>\n",
              "      <th>0</th>\n",
              "      <td>892</td>\n",
              "      <td>34.5</td>\n",
              "      <td>0</td>\n",
              "      <td>0</td>\n",
              "      <td>7.8292</td>\n",
              "      <td>12</td>\n",
              "      <td>0</td>\n",
              "      <td>0</td>\n",
              "      <td>1</td>\n",
              "      <td>0</td>\n",
              "      <td>1</td>\n",
              "      <td>0</td>\n",
              "      <td>1</td>\n",
              "      <td>0</td>\n",
              "    </tr>\n",
              "    <tr>\n",
              "      <th>1</th>\n",
              "      <td>893</td>\n",
              "      <td>47.0</td>\n",
              "      <td>1</td>\n",
              "      <td>0</td>\n",
              "      <td>7.0000</td>\n",
              "      <td>13</td>\n",
              "      <td>0</td>\n",
              "      <td>0</td>\n",
              "      <td>1</td>\n",
              "      <td>1</td>\n",
              "      <td>0</td>\n",
              "      <td>0</td>\n",
              "      <td>0</td>\n",
              "      <td>1</td>\n",
              "    </tr>\n",
              "    <tr>\n",
              "      <th>2</th>\n",
              "      <td>894</td>\n",
              "      <td>62.0</td>\n",
              "      <td>0</td>\n",
              "      <td>0</td>\n",
              "      <td>9.6875</td>\n",
              "      <td>12</td>\n",
              "      <td>0</td>\n",
              "      <td>1</td>\n",
              "      <td>0</td>\n",
              "      <td>0</td>\n",
              "      <td>1</td>\n",
              "      <td>0</td>\n",
              "      <td>1</td>\n",
              "      <td>0</td>\n",
              "    </tr>\n",
              "    <tr>\n",
              "      <th>3</th>\n",
              "      <td>895</td>\n",
              "      <td>27.0</td>\n",
              "      <td>0</td>\n",
              "      <td>0</td>\n",
              "      <td>8.6625</td>\n",
              "      <td>12</td>\n",
              "      <td>0</td>\n",
              "      <td>0</td>\n",
              "      <td>1</td>\n",
              "      <td>0</td>\n",
              "      <td>1</td>\n",
              "      <td>0</td>\n",
              "      <td>0</td>\n",
              "      <td>1</td>\n",
              "    </tr>\n",
              "    <tr>\n",
              "      <th>4</th>\n",
              "      <td>896</td>\n",
              "      <td>22.0</td>\n",
              "      <td>1</td>\n",
              "      <td>1</td>\n",
              "      <td>12.2875</td>\n",
              "      <td>13</td>\n",
              "      <td>0</td>\n",
              "      <td>0</td>\n",
              "      <td>1</td>\n",
              "      <td>1</td>\n",
              "      <td>0</td>\n",
              "      <td>0</td>\n",
              "      <td>0</td>\n",
              "      <td>1</td>\n",
              "    </tr>\n",
              "  </tbody>\n",
              "</table>\n",
              "</div>"
            ],
            "text/plain": [
              "   PassengerId   Age  SibSp  Parch     Fare  New_name  1  2  3  0  1  0  1  2\n",
              "0          892  34.5      0      0   7.8292        12  0  0  1  0  1  0  1  0\n",
              "1          893  47.0      1      0   7.0000        13  0  0  1  1  0  0  0  1\n",
              "2          894  62.0      0      0   9.6875        12  0  1  0  0  1  0  1  0\n",
              "3          895  27.0      0      0   8.6625        12  0  0  1  0  1  0  0  1\n",
              "4          896  22.0      1      1  12.2875        13  0  0  1  1  0  0  0  1"
            ]
          },
          "metadata": {
            "tags": []
          },
          "execution_count": 43
        }
      ]
    },
    {
      "cell_type": "code",
      "metadata": {
        "id": "cGii9C6FQ5OB"
      },
      "source": [
        "x = df_train.iloc[:,2:].values\n",
        "y = df_train.iloc[:,1].values\n",
        "X_test = df_test.iloc[:,1:].values"
      ],
      "execution_count": null,
      "outputs": []
    },
    {
      "cell_type": "code",
      "metadata": {
        "id": "sIpRrxIcIh4S"
      },
      "source": [
        "from sklearn.model_selection import train_test_split\n",
        "x_train,x_test,y_train,y_test = train_test_split(x,y,test_size = 0.3,random_state=0)"
      ],
      "execution_count": null,
      "outputs": []
    },
    {
      "cell_type": "code",
      "metadata": {
        "id": "TTqxEBCQSLrc"
      },
      "source": [
        "from sklearn.preprocessing import StandardScaler\n",
        "sc = StandardScaler()\n",
        "x_train = sc.fit_transform(x_train)\n",
        "x_test = sc.transform(x_test)\n",
        "X_test = sc.transform(X_test)"
      ],
      "execution_count": null,
      "outputs": []
    },
    {
      "cell_type": "code",
      "metadata": {
        "id": "q3RL2y4WFLWm"
      },
      "source": [
        "# from sklearn.preprocessing import OneHotEncoder\n",
        "# one = OneHotEncoder()\n",
        "# y_train = one.fit_transform(y_train.reshape(-1,1))\n",
        "# y_test = one.fit_transform(y_test.reshape(-1,1))"
      ],
      "execution_count": null,
      "outputs": []
    },
    {
      "cell_type": "code",
      "metadata": {
        "id": "OsbOjrfsF2KT",
        "colab": {
          "base_uri": "https://localhost:8080/",
          "height": 34
        },
        "outputId": "19d952b7-8d5f-4aed-80a8-2f292e82da4e"
      },
      "source": [
        "y_train.shape,x_train.shape"
      ],
      "execution_count": null,
      "outputs": [
        {
          "output_type": "execute_result",
          "data": {
            "text/plain": [
              "((623,), (623, 13))"
            ]
          },
          "metadata": {
            "tags": []
          },
          "execution_count": 48
        }
      ]
    },
    {
      "cell_type": "code",
      "metadata": {
        "id": "PbT6Hhn8bed0",
        "colab": {
          "base_uri": "https://localhost:8080/",
          "height": 105
        },
        "outputId": "f9a14ef4-1de0-47c7-94e4-ff32b806ebd2"
      },
      "source": [
        "from sklearn.discriminant_analysis import LinearDiscriminantAnalysis\n",
        "lda = LinearDiscriminantAnalysis(n_components=2)\n",
        "x_train = lda.fit_transform(x_train,y_train)\n",
        "x_test = lda.transform(x_test)"
      ],
      "execution_count": null,
      "outputs": [
        {
          "output_type": "stream",
          "text": [
            "/usr/local/lib/python3.6/dist-packages/sklearn/discriminant_analysis.py:463: ChangedBehaviorWarning: n_components cannot be larger than min(n_features, n_classes - 1). Using min(n_features, n_classes - 1) = min(13, 2 - 1) = 1 components.\n",
            "  ChangedBehaviorWarning)\n",
            "/usr/local/lib/python3.6/dist-packages/sklearn/discriminant_analysis.py:469: FutureWarning: In version 0.23, setting n_components > min(n_features, n_classes - 1) will raise a ValueError. You should set n_components to None (default), or a value smaller or equal to min(n_features, n_classes - 1).\n",
            "  warnings.warn(future_msg, FutureWarning)\n"
          ],
          "name": "stderr"
        }
      ]
    },
    {
      "cell_type": "markdown",
      "metadata": {
        "id": "KV9A2tdQG0kr"
      },
      "source": [
        "#KNN"
      ]
    },
    {
      "cell_type": "code",
      "metadata": {
        "id": "8JmCjokvSOUB",
        "colab": {
          "base_uri": "https://localhost:8080/",
          "height": 68
        },
        "outputId": "6e3dea13-59b8-4831-f8de-cea75d780500"
      },
      "source": [
        "from sklearn.neighbors import KNeighborsClassifier\n",
        "clf = KNeighborsClassifier(n_neighbors=11,n_jobs=-1)\n",
        "clf.fit(x_train,y_train)"
      ],
      "execution_count": null,
      "outputs": [
        {
          "output_type": "execute_result",
          "data": {
            "text/plain": [
              "KNeighborsClassifier(algorithm='auto', leaf_size=30, metric='minkowski',\n",
              "                     metric_params=None, n_jobs=-1, n_neighbors=11, p=2,\n",
              "                     weights='uniform')"
            ]
          },
          "metadata": {
            "tags": []
          },
          "execution_count": 144
        }
      ]
    },
    {
      "cell_type": "code",
      "metadata": {
        "id": "lgOwpfyjSk6U",
        "colab": {
          "base_uri": "https://localhost:8080/",
          "height": 34
        },
        "outputId": "77504896-e662-4ae4-b694-6be1231df581"
      },
      "source": [
        "clf.score(x_train,y_train)"
      ],
      "execution_count": null,
      "outputs": [
        {
          "output_type": "execute_result",
          "data": {
            "text/plain": [
              "0.8041733547351525"
            ]
          },
          "metadata": {
            "tags": []
          },
          "execution_count": 145
        }
      ]
    },
    {
      "cell_type": "code",
      "metadata": {
        "id": "v0z5nxfuJXEe",
        "colab": {
          "base_uri": "https://localhost:8080/",
          "height": 34
        },
        "outputId": "4dc04eec-4a75-4f39-c3d0-cd783fc427da"
      },
      "source": [
        "clf.score(x_test,y_test)"
      ],
      "execution_count": null,
      "outputs": [
        {
          "output_type": "execute_result",
          "data": {
            "text/plain": [
              "0.8395522388059702"
            ]
          },
          "metadata": {
            "tags": []
          },
          "execution_count": 146
        }
      ]
    },
    {
      "cell_type": "code",
      "metadata": {
        "id": "EJvkyAHBJoHW"
      },
      "source": [
        "param2 = {\n",
        "    \"n_neighbors\" : [5,7,11,13],\n",
        "    \"metric\" : ['minkowski','mae']\n",
        "}"
      ],
      "execution_count": null,
      "outputs": []
    },
    {
      "cell_type": "code",
      "metadata": {
        "id": "3nMu2-2MJoKt",
        "colab": {
          "base_uri": "https://localhost:8080/",
          "height": 204
        },
        "outputId": "4a0ec152-c86a-48f8-aa75-ad8e70ed0589"
      },
      "source": [
        "from sklearn.model_selection import GridSearchCV\n",
        "clf_grid = GridSearchCV(estimator=clf,param_grid=param2,n_jobs=-1,cv=3)\n",
        "clf_grid.fit(x_train,y_train)"
      ],
      "execution_count": null,
      "outputs": [
        {
          "output_type": "execute_result",
          "data": {
            "text/plain": [
              "GridSearchCV(cv=3, error_score=nan,\n",
              "             estimator=KNeighborsClassifier(algorithm='auto', leaf_size=30,\n",
              "                                            metric='minkowski',\n",
              "                                            metric_params=None, n_jobs=-1,\n",
              "                                            n_neighbors=11, p=2,\n",
              "                                            weights='uniform'),\n",
              "             iid='deprecated', n_jobs=-1,\n",
              "             param_grid={'metric': ['minkowski', 'mae'],\n",
              "                         'n_neighbors': [5, 7, 11, 13]},\n",
              "             pre_dispatch='2*n_jobs', refit=True, return_train_score=False,\n",
              "             scoring=None, verbose=0)"
            ]
          },
          "metadata": {
            "tags": []
          },
          "execution_count": 148
        }
      ]
    },
    {
      "cell_type": "code",
      "metadata": {
        "id": "JOwchXZ8J04X",
        "colab": {
          "base_uri": "https://localhost:8080/",
          "height": 34
        },
        "outputId": "baf21539-d45a-4927-f48a-6902d48492dc"
      },
      "source": [
        "clf_grid.best_params_"
      ],
      "execution_count": null,
      "outputs": [
        {
          "output_type": "execute_result",
          "data": {
            "text/plain": [
              "{'metric': 'minkowski', 'n_neighbors': 11}"
            ]
          },
          "metadata": {
            "tags": []
          },
          "execution_count": 149
        }
      ]
    },
    {
      "cell_type": "code",
      "metadata": {
        "id": "j1sbnXXU8SEq"
      },
      "source": [
        "predictions = clf.predict(X_test)"
      ],
      "execution_count": null,
      "outputs": []
    },
    {
      "cell_type": "code",
      "metadata": {
        "id": "51jEJOcS8aoX",
        "colab": {
          "base_uri": "https://localhost:8080/",
          "height": 34
        },
        "outputId": "62ffaec2-69c5-410d-9d66-e6196b4ea53f"
      },
      "source": [
        "predictions[:10]"
      ],
      "execution_count": null,
      "outputs": [
        {
          "output_type": "execute_result",
          "data": {
            "text/plain": [
              "array([0, 0, 0, 0, 0, 0, 1, 0, 1, 0])"
            ]
          },
          "metadata": {
            "tags": []
          },
          "execution_count": 248
        }
      ]
    },
    {
      "cell_type": "code",
      "metadata": {
        "id": "b-9HgLgSFTYd"
      },
      "source": [
        "Id = np.array(Id)"
      ],
      "execution_count": null,
      "outputs": []
    },
    {
      "cell_type": "code",
      "metadata": {
        "id": "bA1rrPtzFaHu"
      },
      "source": [
        "df = pd.DataFrame(Id)\n",
        "# df2 = pd.DataFrame(predictions)"
      ],
      "execution_count": null,
      "outputs": []
    },
    {
      "cell_type": "code",
      "metadata": {
        "id": "f5akDjuCE2If"
      },
      "source": [
        "# predictions = pd.concat([df,df2], axis=1)\n",
        "# predictions.columns=['PassengerId','Survived']"
      ],
      "execution_count": null,
      "outputs": []
    },
    {
      "cell_type": "code",
      "metadata": {
        "id": "I4RHReQh8lO9"
      },
      "source": [
        "# predictions.head()"
      ],
      "execution_count": null,
      "outputs": []
    },
    {
      "cell_type": "code",
      "metadata": {
        "id": "vv6Tpqxd81u-"
      },
      "source": [
        "# predictions.to_csv(\"Prediction.csv\")"
      ],
      "execution_count": null,
      "outputs": []
    },
    {
      "cell_type": "markdown",
      "metadata": {
        "id": "Un4O6HyHG75-"
      },
      "source": [
        "#XGBOOST"
      ]
    },
    {
      "cell_type": "code",
      "metadata": {
        "id": "mJ9D5v6aHFSf",
        "colab": {
          "base_uri": "https://localhost:8080/",
          "height": 136
        },
        "outputId": "af97acfe-91c3-4f5e-e8f3-de2a9d634bee"
      },
      "source": [
        "from xgboost import XGBClassifier\n",
        "clf_xgb = XGBClassifier()\n",
        "clf_xgb.fit(x_train,y_train)"
      ],
      "execution_count": null,
      "outputs": [
        {
          "output_type": "execute_result",
          "data": {
            "text/plain": [
              "XGBClassifier(base_score=0.5, booster='gbtree', colsample_bylevel=1,\n",
              "              colsample_bynode=1, colsample_bytree=1, gamma=0,\n",
              "              learning_rate=0.1, max_delta_step=0, max_depth=3,\n",
              "              min_child_weight=1, missing=None, n_estimators=100, n_jobs=1,\n",
              "              nthread=None, objective='binary:logistic', random_state=0,\n",
              "              reg_alpha=0, reg_lambda=1, scale_pos_weight=1, seed=None,\n",
              "              silent=None, subsample=1, verbosity=1)"
            ]
          },
          "metadata": {
            "tags": []
          },
          "execution_count": 150
        }
      ]
    },
    {
      "cell_type": "code",
      "metadata": {
        "id": "rrsI9ZlEEo9k"
      },
      "source": [
        "# XGBClassifier(base_score=0.5, booster='gbtree', colsample_bylevel=1,\n",
        "#               colsample_bynode=1, colsample_bytree=1, gamma=0,\n",
        "#               learning_rate=0.2, max_delta_step=0, max_depth=3,\n",
        "#               min_child_weight=1, missing=None, n_estimators=40, n_jobs=-1,\n",
        "#               nthread=None, objective='binary:logistic', random_state=0,\n",
        "#               reg_alpha=0, reg_lambda=1, scale_pos_weight=1, seed=None,\n",
        "#               silent=None, subsample=1, verbosity=1)"
      ],
      "execution_count": null,
      "outputs": []
    },
    {
      "cell_type": "code",
      "metadata": {
        "id": "UBSNpBqhHK-0",
        "colab": {
          "base_uri": "https://localhost:8080/",
          "height": 34
        },
        "outputId": "30947f6c-b857-41b5-8825-fabae2c6363e"
      },
      "source": [
        "pred_xgb = clf_xgb.predict(x_train)\n",
        "clf_xgb.score(x_train,y_train)*100"
      ],
      "execution_count": null,
      "outputs": [
        {
          "output_type": "execute_result",
          "data": {
            "text/plain": [
              "86.51685393258427"
            ]
          },
          "metadata": {
            "tags": []
          },
          "execution_count": 152
        }
      ]
    },
    {
      "cell_type": "code",
      "metadata": {
        "id": "Uy892FhOKDwQ",
        "colab": {
          "base_uri": "https://localhost:8080/",
          "height": 34
        },
        "outputId": "f99b3d58-5f9e-4b98-eeca-290e845ca88e"
      },
      "source": [
        "clf_xgb.score(x_test,y_test)*100"
      ],
      "execution_count": null,
      "outputs": [
        {
          "output_type": "execute_result",
          "data": {
            "text/plain": [
              "80.22388059701493"
            ]
          },
          "metadata": {
            "tags": []
          },
          "execution_count": 153
        }
      ]
    },
    {
      "cell_type": "code",
      "metadata": {
        "id": "VmSh8LEeHOml"
      },
      "source": [
        "param2 = {\n",
        "    \"n_estimators\":[40,30,25,50],\n",
        "    \"learning_rate\":[0.1,0.2,0.3,0.5],\n",
        "    \"max_depth\":[10,20,30,40]\n",
        "}"
      ],
      "execution_count": null,
      "outputs": []
    },
    {
      "cell_type": "code",
      "metadata": {
        "id": "lNrqrjm9Hji1",
        "colab": {
          "base_uri": "https://localhost:8080/",
          "height": 306
        },
        "outputId": "eb14a05a-14d4-48f7-ac7d-53dda920d278"
      },
      "source": [
        "from sklearn.model_selection import GridSearchCV\n",
        "clf_grid = GridSearchCV(estimator=clf_xgb,param_grid=param2,n_jobs=-1,cv=3)\n",
        "clf_grid.fit(x_train,y_train)"
      ],
      "execution_count": null,
      "outputs": [
        {
          "output_type": "execute_result",
          "data": {
            "text/plain": [
              "GridSearchCV(cv=3, error_score=nan,\n",
              "             estimator=XGBClassifier(base_score=0.5, booster='gbtree',\n",
              "                                     colsample_bylevel=1, colsample_bynode=1,\n",
              "                                     colsample_bytree=1, gamma=0,\n",
              "                                     learning_rate=0.1, max_delta_step=0,\n",
              "                                     max_depth=3, min_child_weight=1,\n",
              "                                     missing=None, n_estimators=100, n_jobs=1,\n",
              "                                     nthread=None, objective='binary:logistic',\n",
              "                                     random_state=0, reg_alpha=0, reg_lambda=1,\n",
              "                                     scale_pos_weight=1, seed=None, silent=None,\n",
              "                                     subsample=1, verbosity=1),\n",
              "             iid='deprecated', n_jobs=-1,\n",
              "             param_grid={'learning_rate': [0.1, 0.2, 0.3, 0.5],\n",
              "                         'max_depth': [10, 20, 30, 40],\n",
              "                         'n_estimators': [40, 30, 25, 50]},\n",
              "             pre_dispatch='2*n_jobs', refit=True, return_train_score=False,\n",
              "             scoring=None, verbose=0)"
            ]
          },
          "metadata": {
            "tags": []
          },
          "execution_count": 155
        }
      ]
    },
    {
      "cell_type": "code",
      "metadata": {
        "id": "GRc4VJ1mHmPH",
        "colab": {
          "base_uri": "https://localhost:8080/",
          "height": 34
        },
        "outputId": "c4772d60-15e1-4c2f-d45e-b2b587dfa395"
      },
      "source": [
        "clf_grid.best_params_"
      ],
      "execution_count": null,
      "outputs": [
        {
          "output_type": "execute_result",
          "data": {
            "text/plain": [
              "{'learning_rate': 0.1, 'max_depth': 10, 'n_estimators': 25}"
            ]
          },
          "metadata": {
            "tags": []
          },
          "execution_count": 156
        }
      ]
    },
    {
      "cell_type": "code",
      "metadata": {
        "id": "3nu05wyPEfgO",
        "colab": {
          "base_uri": "https://localhost:8080/",
          "height": 136
        },
        "outputId": "d89ae401-8414-4397-91b9-2c6771283f0a"
      },
      "source": [
        "clf_grid.best_estimator_"
      ],
      "execution_count": null,
      "outputs": [
        {
          "output_type": "execute_result",
          "data": {
            "text/plain": [
              "XGBClassifier(base_score=0.5, booster='gbtree', colsample_bylevel=1,\n",
              "              colsample_bynode=1, colsample_bytree=1, gamma=0,\n",
              "              learning_rate=0.1, max_delta_step=0, max_depth=20,\n",
              "              min_child_weight=1, missing=None, n_estimators=25, n_jobs=1,\n",
              "              nthread=None, objective='binary:logistic', random_state=0,\n",
              "              reg_alpha=0, reg_lambda=1, scale_pos_weight=1, seed=None,\n",
              "              silent=None, subsample=1, verbosity=1)"
            ]
          },
          "metadata": {
            "tags": []
          },
          "execution_count": 84
        }
      ]
    },
    {
      "cell_type": "code",
      "metadata": {
        "id": "sPbF-hHsJAgu"
      },
      "source": [
        "predictions_Xgb = clf_xgb.predict(X_test)"
      ],
      "execution_count": null,
      "outputs": []
    },
    {
      "cell_type": "code",
      "metadata": {
        "id": "dRSzOp53dtOO"
      },
      "source": [
        "predictions_svc = clf_svc.predict(X_test)"
      ],
      "execution_count": null,
      "outputs": []
    },
    {
      "cell_type": "code",
      "metadata": {
        "id": "XLNJeQGcJP_V"
      },
      "source": [
        "df3 = pd.DataFrame(predictions_Xgb)"
      ],
      "execution_count": null,
      "outputs": []
    },
    {
      "cell_type": "code",
      "metadata": {
        "id": "rApiX_kId0JO"
      },
      "source": [
        "df4 = pd.DataFrame(predictions_svc)"
      ],
      "execution_count": null,
      "outputs": []
    },
    {
      "cell_type": "code",
      "metadata": {
        "id": "036OzjynJQDu"
      },
      "source": [
        "predictions_Xgb = pd.concat([df,df3], axis=1)\n",
        "predictions_Xgb.columns=['PassengerId','Survived']"
      ],
      "execution_count": null,
      "outputs": []
    },
    {
      "cell_type": "code",
      "metadata": {
        "id": "8ws4A-sVd6bl"
      },
      "source": [
        "predictions_svc = pd.concat([df,df4], axis=1)\n",
        "predictions_svc.columns=['PassengerId','Survived']"
      ],
      "execution_count": null,
      "outputs": []
    },
    {
      "cell_type": "code",
      "metadata": {
        "id": "n7x3cbVFJood",
        "colab": {
          "base_uri": "https://localhost:8080/",
          "height": 204
        },
        "outputId": "b65fd03e-5ab8-4d7f-afe0-9bf7958bbb9e"
      },
      "source": [
        "predictions_Xgb.head()"
      ],
      "execution_count": null,
      "outputs": [
        {
          "output_type": "execute_result",
          "data": {
            "text/html": [
              "<div>\n",
              "<style scoped>\n",
              "    .dataframe tbody tr th:only-of-type {\n",
              "        vertical-align: middle;\n",
              "    }\n",
              "\n",
              "    .dataframe tbody tr th {\n",
              "        vertical-align: top;\n",
              "    }\n",
              "\n",
              "    .dataframe thead th {\n",
              "        text-align: right;\n",
              "    }\n",
              "</style>\n",
              "<table border=\"1\" class=\"dataframe\">\n",
              "  <thead>\n",
              "    <tr style=\"text-align: right;\">\n",
              "      <th></th>\n",
              "      <th>PassengerId</th>\n",
              "      <th>Survived</th>\n",
              "    </tr>\n",
              "  </thead>\n",
              "  <tbody>\n",
              "    <tr>\n",
              "      <th>0</th>\n",
              "      <td>892</td>\n",
              "      <td>0</td>\n",
              "    </tr>\n",
              "    <tr>\n",
              "      <th>1</th>\n",
              "      <td>893</td>\n",
              "      <td>0</td>\n",
              "    </tr>\n",
              "    <tr>\n",
              "      <th>2</th>\n",
              "      <td>894</td>\n",
              "      <td>0</td>\n",
              "    </tr>\n",
              "    <tr>\n",
              "      <th>3</th>\n",
              "      <td>895</td>\n",
              "      <td>0</td>\n",
              "    </tr>\n",
              "    <tr>\n",
              "      <th>4</th>\n",
              "      <td>896</td>\n",
              "      <td>1</td>\n",
              "    </tr>\n",
              "  </tbody>\n",
              "</table>\n",
              "</div>"
            ],
            "text/plain": [
              "   PassengerId  Survived\n",
              "0          892         0\n",
              "1          893         0\n",
              "2          894         0\n",
              "3          895         0\n",
              "4          896         1"
            ]
          },
          "metadata": {
            "tags": []
          },
          "execution_count": 265
        }
      ]
    },
    {
      "cell_type": "code",
      "metadata": {
        "id": "9oCHDkMsd_pS",
        "colab": {
          "base_uri": "https://localhost:8080/",
          "height": 204
        },
        "outputId": "69f3aa40-164d-47ad-c753-82cdf836ba7d"
      },
      "source": [
        "predictions_svc.head()"
      ],
      "execution_count": null,
      "outputs": [
        {
          "output_type": "execute_result",
          "data": {
            "text/html": [
              "<div>\n",
              "<style scoped>\n",
              "    .dataframe tbody tr th:only-of-type {\n",
              "        vertical-align: middle;\n",
              "    }\n",
              "\n",
              "    .dataframe tbody tr th {\n",
              "        vertical-align: top;\n",
              "    }\n",
              "\n",
              "    .dataframe thead th {\n",
              "        text-align: right;\n",
              "    }\n",
              "</style>\n",
              "<table border=\"1\" class=\"dataframe\">\n",
              "  <thead>\n",
              "    <tr style=\"text-align: right;\">\n",
              "      <th></th>\n",
              "      <th>PassengerId</th>\n",
              "      <th>Survived</th>\n",
              "    </tr>\n",
              "  </thead>\n",
              "  <tbody>\n",
              "    <tr>\n",
              "      <th>0</th>\n",
              "      <td>892</td>\n",
              "      <td>0</td>\n",
              "    </tr>\n",
              "    <tr>\n",
              "      <th>1</th>\n",
              "      <td>893</td>\n",
              "      <td>0</td>\n",
              "    </tr>\n",
              "    <tr>\n",
              "      <th>2</th>\n",
              "      <td>894</td>\n",
              "      <td>0</td>\n",
              "    </tr>\n",
              "    <tr>\n",
              "      <th>3</th>\n",
              "      <td>895</td>\n",
              "      <td>0</td>\n",
              "    </tr>\n",
              "    <tr>\n",
              "      <th>4</th>\n",
              "      <td>896</td>\n",
              "      <td>0</td>\n",
              "    </tr>\n",
              "  </tbody>\n",
              "</table>\n",
              "</div>"
            ],
            "text/plain": [
              "   PassengerId  Survived\n",
              "0          892         0\n",
              "1          893         0\n",
              "2          894         0\n",
              "3          895         0\n",
              "4          896         0"
            ]
          },
          "metadata": {
            "tags": []
          },
          "execution_count": 315
        }
      ]
    },
    {
      "cell_type": "code",
      "metadata": {
        "id": "dVV4EJFpJoy4"
      },
      "source": [
        "predictions_Xgb.to_csv(\"Prediction_Xgbc.csv\")"
      ],
      "execution_count": null,
      "outputs": []
    },
    {
      "cell_type": "code",
      "metadata": {
        "id": "4QMdHZRkeEmP"
      },
      "source": [
        "predictions_svc.to_csv(\"Prediction_svc.csv\")"
      ],
      "execution_count": null,
      "outputs": []
    },
    {
      "cell_type": "markdown",
      "metadata": {
        "id": "dYLO3QwkKp_u"
      },
      "source": [
        "#AdaBoost"
      ]
    },
    {
      "cell_type": "code",
      "metadata": {
        "id": "IlfvUFVdHuWt",
        "colab": {
          "base_uri": "https://localhost:8080/",
          "height": 51
        },
        "outputId": "47af5fee-db24-4167-ab07-e38edb8034eb"
      },
      "source": [
        "from sklearn.ensemble import AdaBoostClassifier\n",
        "clf_adb = AdaBoostClassifier(n_estimators=50,learning_rate=0.1)\n",
        "clf_adb.fit(x_train,y_train)"
      ],
      "execution_count": null,
      "outputs": [
        {
          "output_type": "execute_result",
          "data": {
            "text/plain": [
              "AdaBoostClassifier(algorithm='SAMME.R', base_estimator=None, learning_rate=0.1,\n",
              "                   n_estimators=50, random_state=None)"
            ]
          },
          "metadata": {
            "tags": []
          },
          "execution_count": 91
        }
      ]
    },
    {
      "cell_type": "code",
      "metadata": {
        "id": "ICv55WWDIU9s",
        "colab": {
          "base_uri": "https://localhost:8080/",
          "height": 34
        },
        "outputId": "89a1c13d-f948-41d0-f1f1-83537f20b123"
      },
      "source": [
        "clf_adb.score(x_train,y_train)*100"
      ],
      "execution_count": null,
      "outputs": [
        {
          "output_type": "execute_result",
          "data": {
            "text/plain": [
              "79.61476725521669"
            ]
          },
          "metadata": {
            "tags": []
          },
          "execution_count": 92
        }
      ]
    },
    {
      "cell_type": "code",
      "metadata": {
        "id": "ohWXbN23Ibof",
        "colab": {
          "base_uri": "https://localhost:8080/",
          "height": 34
        },
        "outputId": "23c550b4-35e7-41f0-b623-c7b73d887064"
      },
      "source": [
        "clf_adb.score(x_test,y_test)*100"
      ],
      "execution_count": null,
      "outputs": [
        {
          "output_type": "execute_result",
          "data": {
            "text/plain": [
              "80.59701492537313"
            ]
          },
          "metadata": {
            "tags": []
          },
          "execution_count": 93
        }
      ]
    },
    {
      "cell_type": "code",
      "metadata": {
        "id": "CHbRgOpyIgFL"
      },
      "source": [
        "param3 = {\n",
        "    \"n_estimators\":[40,30,25,50],\n",
        "    \"learning_rate\":[0.1,0.2,0.3,0.5]\n",
        "}"
      ],
      "execution_count": null,
      "outputs": []
    },
    {
      "cell_type": "code",
      "metadata": {
        "id": "LOpv3gw3Inca",
        "colab": {
          "base_uri": "https://localhost:8080/",
          "height": 187
        },
        "outputId": "a6574bb3-3a5f-4be9-bf7f-022ef2327751"
      },
      "source": [
        "from sklearn.model_selection import GridSearchCV\n",
        "clf_grid = GridSearchCV(estimator=clf_adb,param_grid=param3,n_jobs=-1,cv=3)\n",
        "clf_grid.fit(x_train,y_train)"
      ],
      "execution_count": null,
      "outputs": [
        {
          "output_type": "execute_result",
          "data": {
            "text/plain": [
              "GridSearchCV(cv=3, error_score=nan,\n",
              "             estimator=AdaBoostClassifier(algorithm='SAMME.R',\n",
              "                                          base_estimator=None,\n",
              "                                          learning_rate=0.1, n_estimators=50,\n",
              "                                          random_state=None),\n",
              "             iid='deprecated', n_jobs=-1,\n",
              "             param_grid={'learning_rate': [0.1, 0.2, 0.3, 0.5],\n",
              "                         'n_estimators': [40, 30, 25, 50]},\n",
              "             pre_dispatch='2*n_jobs', refit=True, return_train_score=False,\n",
              "             scoring=None, verbose=0)"
            ]
          },
          "metadata": {
            "tags": []
          },
          "execution_count": 95
        }
      ]
    },
    {
      "cell_type": "code",
      "metadata": {
        "id": "jWQDPpPtIuxM",
        "colab": {
          "base_uri": "https://localhost:8080/",
          "height": 34
        },
        "outputId": "eddbafa3-6d32-4ccc-9988-bce40ea3f412"
      },
      "source": [
        "clf_grid.best_params_"
      ],
      "execution_count": null,
      "outputs": [
        {
          "output_type": "execute_result",
          "data": {
            "text/plain": [
              "{'learning_rate': 0.1, 'n_estimators': 50}"
            ]
          },
          "metadata": {
            "tags": []
          },
          "execution_count": 96
        }
      ]
    },
    {
      "cell_type": "markdown",
      "metadata": {
        "id": "i0G7V4NeKaQz"
      },
      "source": [
        "#ANN"
      ]
    },
    {
      "cell_type": "code",
      "metadata": {
        "id": "94oreZ0TKbt5",
        "colab": {
          "base_uri": "https://localhost:8080/",
          "height": 34
        },
        "outputId": "0871c29e-d50a-4682-84f7-b637745ece2f"
      },
      "source": [
        "from keras.models import Sequential\n",
        "from keras.layers import Dense,Dropout"
      ],
      "execution_count": null,
      "outputs": [
        {
          "output_type": "stream",
          "text": [
            "Using TensorFlow backend.\n"
          ],
          "name": "stderr"
        }
      ]
    },
    {
      "cell_type": "code",
      "metadata": {
        "id": "ipee-TxnbvCj"
      },
      "source": [
        "model = Sequential()"
      ],
      "execution_count": null,
      "outputs": []
    },
    {
      "cell_type": "code",
      "metadata": {
        "id": "q_2JI3H2b5X_"
      },
      "source": [
        "model.add(Dense(units=64,activation='relu',input_shape=(3,)))\n",
        "model.add(Dropout(rate=0.2))"
      ],
      "execution_count": null,
      "outputs": []
    },
    {
      "cell_type": "code",
      "metadata": {
        "id": "XqeCP0QMRScV"
      },
      "source": [
        "model.add(Dense(units=32,activation='relu'))\n",
        "model.add(Dropout(rate=0.2))"
      ],
      "execution_count": null,
      "outputs": []
    },
    {
      "cell_type": "code",
      "metadata": {
        "id": "DdsPh7cfRXth"
      },
      "source": [
        "model.add(Dense(units=1,activation='sigmoid'))"
      ],
      "execution_count": null,
      "outputs": []
    },
    {
      "cell_type": "code",
      "metadata": {
        "id": "aMrPIHJ0SyQd"
      },
      "source": [
        "model.compile(optimizer='adam',loss='binary_crossentropy',metrics=['accuracy'])"
      ],
      "execution_count": null,
      "outputs": []
    },
    {
      "cell_type": "code",
      "metadata": {
        "id": "lqvnxmKxSzjs",
        "colab": {
          "base_uri": "https://localhost:8080/",
          "height": 323
        },
        "outputId": "741722d5-8c86-49b6-d5cf-93bb8914b9d8"
      },
      "source": [
        "model.summary()"
      ],
      "execution_count": null,
      "outputs": [
        {
          "output_type": "stream",
          "text": [
            "Model: \"sequential_2\"\n",
            "_________________________________________________________________\n",
            "Layer (type)                 Output Shape              Param #   \n",
            "=================================================================\n",
            "dense_3 (Dense)              (None, 64)                256       \n",
            "_________________________________________________________________\n",
            "dropout_3 (Dropout)          (None, 64)                0         \n",
            "_________________________________________________________________\n",
            "dense_4 (Dense)              (None, 32)                2080      \n",
            "_________________________________________________________________\n",
            "dropout_4 (Dropout)          (None, 32)                0         \n",
            "_________________________________________________________________\n",
            "dense_5 (Dense)              (None, 1)                 33        \n",
            "=================================================================\n",
            "Total params: 2,369\n",
            "Trainable params: 2,369\n",
            "Non-trainable params: 0\n",
            "_________________________________________________________________\n"
          ],
          "name": "stdout"
        }
      ]
    },
    {
      "cell_type": "code",
      "metadata": {
        "id": "HIlHxqWdSznZ",
        "colab": {
          "base_uri": "https://localhost:8080/",
          "height": 1000
        },
        "outputId": "da2b9944-8f2b-4869-9f5a-88fcebb18967"
      },
      "source": [
        "model.fit(x_train,y_train,batch_size=128,epochs=100,shuffle=False,validation_split=0.1)"
      ],
      "execution_count": null,
      "outputs": [
        {
          "output_type": "stream",
          "text": [
            "Train on 560 samples, validate on 63 samples\n",
            "Epoch 1/100\n",
            "560/560 [==============================] - 2s 3ms/step - loss: 0.7499 - accuracy: 0.4232 - val_loss: 0.7089 - val_accuracy: 0.5079\n",
            "Epoch 2/100\n",
            "560/560 [==============================] - 0s 47us/step - loss: 0.6803 - accuracy: 0.6071 - val_loss: 0.6632 - val_accuracy: 0.6984\n",
            "Epoch 3/100\n",
            "560/560 [==============================] - 0s 44us/step - loss: 0.6344 - accuracy: 0.7250 - val_loss: 0.6252 - val_accuracy: 0.7143\n",
            "Epoch 4/100\n",
            "560/560 [==============================] - 0s 42us/step - loss: 0.5947 - accuracy: 0.7536 - val_loss: 0.5948 - val_accuracy: 0.6984\n",
            "Epoch 5/100\n",
            "560/560 [==============================] - 0s 46us/step - loss: 0.5711 - accuracy: 0.7554 - val_loss: 0.5707 - val_accuracy: 0.6984\n",
            "Epoch 6/100\n",
            "560/560 [==============================] - 0s 47us/step - loss: 0.5436 - accuracy: 0.7857 - val_loss: 0.5518 - val_accuracy: 0.6984\n",
            "Epoch 7/100\n",
            "560/560 [==============================] - 0s 46us/step - loss: 0.5280 - accuracy: 0.7661 - val_loss: 0.5372 - val_accuracy: 0.6984\n",
            "Epoch 8/100\n",
            "560/560 [==============================] - 0s 53us/step - loss: 0.5119 - accuracy: 0.7714 - val_loss: 0.5264 - val_accuracy: 0.6984\n",
            "Epoch 9/100\n",
            "560/560 [==============================] - 0s 48us/step - loss: 0.4980 - accuracy: 0.7946 - val_loss: 0.5202 - val_accuracy: 0.6984\n",
            "Epoch 10/100\n",
            "560/560 [==============================] - 0s 43us/step - loss: 0.4917 - accuracy: 0.7821 - val_loss: 0.5179 - val_accuracy: 0.6984\n",
            "Epoch 11/100\n",
            "560/560 [==============================] - 0s 48us/step - loss: 0.4809 - accuracy: 0.7821 - val_loss: 0.5175 - val_accuracy: 0.6984\n",
            "Epoch 12/100\n",
            "560/560 [==============================] - 0s 46us/step - loss: 0.4828 - accuracy: 0.7911 - val_loss: 0.5179 - val_accuracy: 0.6984\n",
            "Epoch 13/100\n",
            "560/560 [==============================] - 0s 48us/step - loss: 0.4758 - accuracy: 0.7821 - val_loss: 0.5183 - val_accuracy: 0.6984\n",
            "Epoch 14/100\n",
            "560/560 [==============================] - 0s 45us/step - loss: 0.4729 - accuracy: 0.7839 - val_loss: 0.5182 - val_accuracy: 0.6984\n",
            "Epoch 15/100\n",
            "560/560 [==============================] - 0s 45us/step - loss: 0.4632 - accuracy: 0.7911 - val_loss: 0.5193 - val_accuracy: 0.6984\n",
            "Epoch 16/100\n",
            "560/560 [==============================] - 0s 45us/step - loss: 0.4663 - accuracy: 0.7946 - val_loss: 0.5206 - val_accuracy: 0.7143\n",
            "Epoch 17/100\n",
            "560/560 [==============================] - 0s 45us/step - loss: 0.4649 - accuracy: 0.7821 - val_loss: 0.5228 - val_accuracy: 0.7143\n",
            "Epoch 18/100\n",
            "560/560 [==============================] - 0s 48us/step - loss: 0.4756 - accuracy: 0.7964 - val_loss: 0.5265 - val_accuracy: 0.6984\n",
            "Epoch 19/100\n",
            "560/560 [==============================] - 0s 52us/step - loss: 0.4630 - accuracy: 0.7946 - val_loss: 0.5295 - val_accuracy: 0.6984\n",
            "Epoch 20/100\n",
            "560/560 [==============================] - 0s 45us/step - loss: 0.4577 - accuracy: 0.8018 - val_loss: 0.5324 - val_accuracy: 0.6984\n",
            "Epoch 21/100\n",
            "560/560 [==============================] - 0s 44us/step - loss: 0.4694 - accuracy: 0.7946 - val_loss: 0.5350 - val_accuracy: 0.6984\n",
            "Epoch 22/100\n",
            "560/560 [==============================] - 0s 47us/step - loss: 0.4684 - accuracy: 0.8018 - val_loss: 0.5373 - val_accuracy: 0.6984\n",
            "Epoch 23/100\n",
            "560/560 [==============================] - 0s 47us/step - loss: 0.4626 - accuracy: 0.7982 - val_loss: 0.5388 - val_accuracy: 0.6984\n",
            "Epoch 24/100\n",
            "560/560 [==============================] - 0s 44us/step - loss: 0.4705 - accuracy: 0.8018 - val_loss: 0.5399 - val_accuracy: 0.6984\n",
            "Epoch 25/100\n",
            "560/560 [==============================] - 0s 46us/step - loss: 0.4596 - accuracy: 0.8000 - val_loss: 0.5404 - val_accuracy: 0.6984\n",
            "Epoch 26/100\n",
            "560/560 [==============================] - 0s 51us/step - loss: 0.4602 - accuracy: 0.8054 - val_loss: 0.5399 - val_accuracy: 0.6984\n",
            "Epoch 27/100\n",
            "560/560 [==============================] - 0s 48us/step - loss: 0.4644 - accuracy: 0.8054 - val_loss: 0.5398 - val_accuracy: 0.6984\n",
            "Epoch 28/100\n",
            "560/560 [==============================] - 0s 45us/step - loss: 0.4626 - accuracy: 0.8125 - val_loss: 0.5408 - val_accuracy: 0.6984\n",
            "Epoch 29/100\n",
            "560/560 [==============================] - 0s 46us/step - loss: 0.4574 - accuracy: 0.8107 - val_loss: 0.5432 - val_accuracy: 0.6984\n",
            "Epoch 30/100\n",
            "560/560 [==============================] - 0s 47us/step - loss: 0.4597 - accuracy: 0.8054 - val_loss: 0.5453 - val_accuracy: 0.6984\n",
            "Epoch 31/100\n",
            "560/560 [==============================] - 0s 46us/step - loss: 0.4537 - accuracy: 0.8125 - val_loss: 0.5462 - val_accuracy: 0.6984\n",
            "Epoch 32/100\n",
            "560/560 [==============================] - 0s 61us/step - loss: 0.4588 - accuracy: 0.8089 - val_loss: 0.5465 - val_accuracy: 0.6984\n",
            "Epoch 33/100\n",
            "560/560 [==============================] - 0s 44us/step - loss: 0.4532 - accuracy: 0.8125 - val_loss: 0.5464 - val_accuracy: 0.6984\n",
            "Epoch 34/100\n",
            "560/560 [==============================] - 0s 44us/step - loss: 0.4379 - accuracy: 0.8161 - val_loss: 0.5468 - val_accuracy: 0.6984\n",
            "Epoch 35/100\n",
            "560/560 [==============================] - 0s 45us/step - loss: 0.4487 - accuracy: 0.8089 - val_loss: 0.5469 - val_accuracy: 0.6984\n",
            "Epoch 36/100\n",
            "560/560 [==============================] - 0s 46us/step - loss: 0.4590 - accuracy: 0.7982 - val_loss: 0.5480 - val_accuracy: 0.6984\n",
            "Epoch 37/100\n",
            "560/560 [==============================] - 0s 54us/step - loss: 0.4570 - accuracy: 0.8125 - val_loss: 0.5492 - val_accuracy: 0.6984\n",
            "Epoch 38/100\n",
            "560/560 [==============================] - 0s 43us/step - loss: 0.4547 - accuracy: 0.8018 - val_loss: 0.5499 - val_accuracy: 0.6984\n",
            "Epoch 39/100\n",
            "560/560 [==============================] - 0s 46us/step - loss: 0.4479 - accuracy: 0.8232 - val_loss: 0.5507 - val_accuracy: 0.6984\n",
            "Epoch 40/100\n",
            "560/560 [==============================] - 0s 46us/step - loss: 0.4416 - accuracy: 0.8143 - val_loss: 0.5519 - val_accuracy: 0.6984\n",
            "Epoch 41/100\n",
            "560/560 [==============================] - 0s 56us/step - loss: 0.4602 - accuracy: 0.8000 - val_loss: 0.5531 - val_accuracy: 0.6984\n",
            "Epoch 42/100\n",
            "560/560 [==============================] - 0s 44us/step - loss: 0.4666 - accuracy: 0.8125 - val_loss: 0.5537 - val_accuracy: 0.6984\n",
            "Epoch 43/100\n",
            "560/560 [==============================] - 0s 44us/step - loss: 0.4576 - accuracy: 0.8036 - val_loss: 0.5531 - val_accuracy: 0.6984\n",
            "Epoch 44/100\n",
            "560/560 [==============================] - 0s 48us/step - loss: 0.4561 - accuracy: 0.8179 - val_loss: 0.5523 - val_accuracy: 0.6984\n",
            "Epoch 45/100\n",
            "560/560 [==============================] - 0s 44us/step - loss: 0.4525 - accuracy: 0.8071 - val_loss: 0.5517 - val_accuracy: 0.6984\n",
            "Epoch 46/100\n",
            "560/560 [==============================] - 0s 44us/step - loss: 0.4584 - accuracy: 0.8214 - val_loss: 0.5499 - val_accuracy: 0.6984\n",
            "Epoch 47/100\n",
            "560/560 [==============================] - 0s 44us/step - loss: 0.4561 - accuracy: 0.8107 - val_loss: 0.5483 - val_accuracy: 0.6984\n",
            "Epoch 48/100\n",
            "560/560 [==============================] - 0s 42us/step - loss: 0.4452 - accuracy: 0.8196 - val_loss: 0.5467 - val_accuracy: 0.6984\n",
            "Epoch 49/100\n",
            "560/560 [==============================] - 0s 89us/step - loss: 0.4458 - accuracy: 0.8179 - val_loss: 0.5459 - val_accuracy: 0.6984\n",
            "Epoch 50/100\n",
            "560/560 [==============================] - 0s 54us/step - loss: 0.4395 - accuracy: 0.8161 - val_loss: 0.5457 - val_accuracy: 0.6984\n",
            "Epoch 51/100\n",
            "560/560 [==============================] - 0s 53us/step - loss: 0.4540 - accuracy: 0.8125 - val_loss: 0.5449 - val_accuracy: 0.6984\n",
            "Epoch 52/100\n",
            "560/560 [==============================] - 0s 49us/step - loss: 0.4487 - accuracy: 0.8143 - val_loss: 0.5435 - val_accuracy: 0.6984\n",
            "Epoch 53/100\n",
            "560/560 [==============================] - 0s 44us/step - loss: 0.4400 - accuracy: 0.8179 - val_loss: 0.5432 - val_accuracy: 0.6984\n",
            "Epoch 54/100\n",
            "560/560 [==============================] - 0s 44us/step - loss: 0.4235 - accuracy: 0.8268 - val_loss: 0.5445 - val_accuracy: 0.6984\n",
            "Epoch 55/100\n",
            "560/560 [==============================] - 0s 50us/step - loss: 0.4572 - accuracy: 0.8179 - val_loss: 0.5467 - val_accuracy: 0.6984\n",
            "Epoch 56/100\n",
            "560/560 [==============================] - 0s 45us/step - loss: 0.4525 - accuracy: 0.8107 - val_loss: 0.5486 - val_accuracy: 0.7143\n",
            "Epoch 57/100\n",
            "560/560 [==============================] - 0s 54us/step - loss: 0.4451 - accuracy: 0.8250 - val_loss: 0.5499 - val_accuracy: 0.7143\n",
            "Epoch 58/100\n",
            "560/560 [==============================] - 0s 62us/step - loss: 0.4458 - accuracy: 0.8196 - val_loss: 0.5498 - val_accuracy: 0.7143\n",
            "Epoch 59/100\n",
            "560/560 [==============================] - 0s 47us/step - loss: 0.4476 - accuracy: 0.8179 - val_loss: 0.5498 - val_accuracy: 0.7143\n",
            "Epoch 60/100\n",
            "560/560 [==============================] - 0s 44us/step - loss: 0.4424 - accuracy: 0.8196 - val_loss: 0.5496 - val_accuracy: 0.7143\n",
            "Epoch 61/100\n",
            "560/560 [==============================] - 0s 52us/step - loss: 0.4364 - accuracy: 0.8125 - val_loss: 0.5497 - val_accuracy: 0.7143\n",
            "Epoch 62/100\n",
            "560/560 [==============================] - 0s 53us/step - loss: 0.4369 - accuracy: 0.8179 - val_loss: 0.5498 - val_accuracy: 0.7143\n",
            "Epoch 63/100\n",
            "560/560 [==============================] - 0s 49us/step - loss: 0.4482 - accuracy: 0.8321 - val_loss: 0.5498 - val_accuracy: 0.7143\n",
            "Epoch 64/100\n",
            "560/560 [==============================] - 0s 54us/step - loss: 0.4453 - accuracy: 0.8125 - val_loss: 0.5503 - val_accuracy: 0.7143\n",
            "Epoch 65/100\n",
            "560/560 [==============================] - 0s 65us/step - loss: 0.4432 - accuracy: 0.8179 - val_loss: 0.5507 - val_accuracy: 0.7143\n",
            "Epoch 66/100\n",
            "560/560 [==============================] - 0s 49us/step - loss: 0.4539 - accuracy: 0.8143 - val_loss: 0.5493 - val_accuracy: 0.7143\n",
            "Epoch 67/100\n",
            "560/560 [==============================] - 0s 46us/step - loss: 0.4573 - accuracy: 0.8143 - val_loss: 0.5474 - val_accuracy: 0.7143\n",
            "Epoch 68/100\n",
            "560/560 [==============================] - 0s 47us/step - loss: 0.4454 - accuracy: 0.8196 - val_loss: 0.5467 - val_accuracy: 0.7143\n",
            "Epoch 69/100\n",
            "560/560 [==============================] - 0s 54us/step - loss: 0.4521 - accuracy: 0.8196 - val_loss: 0.5466 - val_accuracy: 0.7143\n",
            "Epoch 70/100\n",
            "560/560 [==============================] - 0s 54us/step - loss: 0.4340 - accuracy: 0.8268 - val_loss: 0.5469 - val_accuracy: 0.7143\n",
            "Epoch 71/100\n",
            "560/560 [==============================] - 0s 51us/step - loss: 0.4487 - accuracy: 0.8179 - val_loss: 0.5470 - val_accuracy: 0.7143\n",
            "Epoch 72/100\n",
            "560/560 [==============================] - 0s 47us/step - loss: 0.4441 - accuracy: 0.8196 - val_loss: 0.5474 - val_accuracy: 0.7143\n",
            "Epoch 73/100\n",
            "560/560 [==============================] - 0s 60us/step - loss: 0.4481 - accuracy: 0.8214 - val_loss: 0.5472 - val_accuracy: 0.7143\n",
            "Epoch 74/100\n",
            "560/560 [==============================] - 0s 51us/step - loss: 0.4423 - accuracy: 0.8232 - val_loss: 0.5465 - val_accuracy: 0.7143\n",
            "Epoch 75/100\n",
            "560/560 [==============================] - 0s 52us/step - loss: 0.4397 - accuracy: 0.8268 - val_loss: 0.5462 - val_accuracy: 0.7143\n",
            "Epoch 76/100\n",
            "560/560 [==============================] - 0s 55us/step - loss: 0.4374 - accuracy: 0.8179 - val_loss: 0.5465 - val_accuracy: 0.7143\n",
            "Epoch 77/100\n",
            "560/560 [==============================] - 0s 54us/step - loss: 0.4533 - accuracy: 0.8161 - val_loss: 0.5466 - val_accuracy: 0.7143\n",
            "Epoch 78/100\n",
            "560/560 [==============================] - 0s 52us/step - loss: 0.4493 - accuracy: 0.8232 - val_loss: 0.5463 - val_accuracy: 0.7143\n",
            "Epoch 79/100\n",
            "560/560 [==============================] - 0s 55us/step - loss: 0.4464 - accuracy: 0.8250 - val_loss: 0.5461 - val_accuracy: 0.7143\n",
            "Epoch 80/100\n",
            "560/560 [==============================] - 0s 56us/step - loss: 0.4405 - accuracy: 0.8232 - val_loss: 0.5457 - val_accuracy: 0.7143\n",
            "Epoch 81/100\n",
            "560/560 [==============================] - 0s 46us/step - loss: 0.4524 - accuracy: 0.8125 - val_loss: 0.5455 - val_accuracy: 0.7143\n",
            "Epoch 82/100\n",
            "560/560 [==============================] - 0s 49us/step - loss: 0.4375 - accuracy: 0.8196 - val_loss: 0.5453 - val_accuracy: 0.7143\n",
            "Epoch 83/100\n",
            "560/560 [==============================] - 0s 54us/step - loss: 0.4443 - accuracy: 0.8232 - val_loss: 0.5447 - val_accuracy: 0.7143\n",
            "Epoch 84/100\n",
            "560/560 [==============================] - 0s 51us/step - loss: 0.4486 - accuracy: 0.8196 - val_loss: 0.5444 - val_accuracy: 0.7143\n",
            "Epoch 85/100\n",
            "560/560 [==============================] - 0s 49us/step - loss: 0.4355 - accuracy: 0.8232 - val_loss: 0.5444 - val_accuracy: 0.7143\n",
            "Epoch 86/100\n",
            "560/560 [==============================] - 0s 48us/step - loss: 0.4264 - accuracy: 0.8286 - val_loss: 0.5457 - val_accuracy: 0.7143\n",
            "Epoch 87/100\n",
            "560/560 [==============================] - 0s 45us/step - loss: 0.4439 - accuracy: 0.8143 - val_loss: 0.5466 - val_accuracy: 0.7143\n",
            "Epoch 88/100\n",
            "560/560 [==============================] - 0s 43us/step - loss: 0.4338 - accuracy: 0.8125 - val_loss: 0.5469 - val_accuracy: 0.7143\n",
            "Epoch 89/100\n",
            "560/560 [==============================] - 0s 46us/step - loss: 0.4360 - accuracy: 0.8161 - val_loss: 0.5470 - val_accuracy: 0.7143\n",
            "Epoch 90/100\n",
            "560/560 [==============================] - 0s 45us/step - loss: 0.4335 - accuracy: 0.8268 - val_loss: 0.5471 - val_accuracy: 0.7143\n",
            "Epoch 91/100\n",
            "560/560 [==============================] - 0s 46us/step - loss: 0.4410 - accuracy: 0.8232 - val_loss: 0.5470 - val_accuracy: 0.7143\n",
            "Epoch 92/100\n",
            "560/560 [==============================] - 0s 58us/step - loss: 0.4432 - accuracy: 0.8214 - val_loss: 0.5464 - val_accuracy: 0.7143\n",
            "Epoch 93/100\n",
            "560/560 [==============================] - 0s 46us/step - loss: 0.4459 - accuracy: 0.8286 - val_loss: 0.5451 - val_accuracy: 0.7143\n",
            "Epoch 94/100\n",
            "560/560 [==============================] - 0s 43us/step - loss: 0.4396 - accuracy: 0.8179 - val_loss: 0.5435 - val_accuracy: 0.7143\n",
            "Epoch 95/100\n",
            "560/560 [==============================] - 0s 45us/step - loss: 0.4269 - accuracy: 0.8214 - val_loss: 0.5427 - val_accuracy: 0.7143\n",
            "Epoch 96/100\n",
            "560/560 [==============================] - 0s 44us/step - loss: 0.4271 - accuracy: 0.8268 - val_loss: 0.5431 - val_accuracy: 0.7143\n",
            "Epoch 97/100\n",
            "560/560 [==============================] - 0s 65us/step - loss: 0.4446 - accuracy: 0.8214 - val_loss: 0.5429 - val_accuracy: 0.7143\n",
            "Epoch 98/100\n",
            "560/560 [==============================] - 0s 44us/step - loss: 0.4309 - accuracy: 0.8232 - val_loss: 0.5429 - val_accuracy: 0.7143\n",
            "Epoch 99/100\n",
            "560/560 [==============================] - 0s 43us/step - loss: 0.4426 - accuracy: 0.8232 - val_loss: 0.5430 - val_accuracy: 0.7143\n",
            "Epoch 100/100\n",
            "560/560 [==============================] - 0s 44us/step - loss: 0.4314 - accuracy: 0.8196 - val_loss: 0.5428 - val_accuracy: 0.7143\n"
          ],
          "name": "stdout"
        },
        {
          "output_type": "execute_result",
          "data": {
            "text/plain": [
              "<keras.callbacks.callbacks.History at 0x7f65714ba898>"
            ]
          },
          "metadata": {
            "tags": []
          },
          "execution_count": 107
        }
      ]
    },
    {
      "cell_type": "markdown",
      "metadata": {
        "id": "hkeFPu4fa2tU"
      },
      "source": [
        "#SVM"
      ]
    },
    {
      "cell_type": "code",
      "metadata": {
        "id": "jQt0M2o7Szqq",
        "colab": {
          "base_uri": "https://localhost:8080/",
          "height": 85
        },
        "outputId": "372eb56d-2948-43a5-837b-7910af27882b"
      },
      "source": [
        "from sklearn.svm import SVC\n",
        "clf_svc = SVC(kernel='rbf',gamma=0.1,C=0.5)\n",
        "clf_svc.fit(x_train,y_train)"
      ],
      "execution_count": null,
      "outputs": [
        {
          "output_type": "execute_result",
          "data": {
            "text/plain": [
              "SVC(C=0.5, break_ties=False, cache_size=200, class_weight=None, coef0=0.0,\n",
              "    decision_function_shape='ovr', degree=3, gamma=0.1, kernel='rbf',\n",
              "    max_iter=-1, probability=False, random_state=None, shrinking=True,\n",
              "    tol=0.001, verbose=False)"
            ]
          },
          "metadata": {
            "tags": []
          },
          "execution_count": 157
        }
      ]
    },
    {
      "cell_type": "code",
      "metadata": {
        "id": "rwGeVCnrbSmF"
      },
      "source": [
        "y_pred = clf_svc.predict(x_test)"
      ],
      "execution_count": null,
      "outputs": []
    },
    {
      "cell_type": "code",
      "metadata": {
        "id": "O3zUk9Tobnhw",
        "colab": {
          "base_uri": "https://localhost:8080/",
          "height": 51
        },
        "outputId": "3870533a-4ce1-45d7-ba2a-0ca7e91c203e"
      },
      "source": [
        "from sklearn.metrics import confusion_matrix,accuracy_score\n",
        "print(confusion_matrix(y_test,y_pred))"
      ],
      "execution_count": null,
      "outputs": [
        {
          "output_type": "stream",
          "text": [
            "[[135  22]\n",
            " [ 26  85]]\n"
          ],
          "name": "stdout"
        }
      ]
    },
    {
      "cell_type": "code",
      "metadata": {
        "id": "jWK5FZQsbwzG",
        "colab": {
          "base_uri": "https://localhost:8080/",
          "height": 34
        },
        "outputId": "2cf44e52-22cb-4c8c-e64a-392f9291d4c0"
      },
      "source": [
        "np.set_printoptions(precision=2)\n",
        "print(accuracy_score(y_test,y_pred)*100)"
      ],
      "execution_count": null,
      "outputs": [
        {
          "output_type": "stream",
          "text": [
            "82.08955223880598\n"
          ],
          "name": "stdout"
        }
      ]
    },
    {
      "cell_type": "code",
      "metadata": {
        "id": "k9NVBrWBc1IO",
        "colab": {
          "base_uri": "https://localhost:8080/",
          "height": 51
        },
        "outputId": "38a5f409-302c-4825-9cb7-988291c3dbf2"
      },
      "source": [
        "from sklearn.model_selection import cross_val_score\n",
        "accuracies = cross_val_score(clf_svc,x_train,y_train,cv=10)\n",
        "print(\"acc={:.2f}\".format(accuracies.mean()*100))\n",
        "print(\"std={:.2f}\".format(accuracies.std()*100))"
      ],
      "execution_count": null,
      "outputs": [
        {
          "output_type": "stream",
          "text": [
            "acc=80.39\n",
            "std=5.39\n"
          ],
          "name": "stdout"
        }
      ]
    },
    {
      "cell_type": "code",
      "metadata": {
        "id": "036AlLWddajw"
      },
      "source": [
        ""
      ],
      "execution_count": null,
      "outputs": []
    },
    {
      "cell_type": "markdown",
      "metadata": {
        "id": "humnpa2wqa6r"
      },
      "source": [
        "#Naive Bayes"
      ]
    },
    {
      "cell_type": "code",
      "metadata": {
        "id": "Q_uo1i3Op4ta",
        "colab": {
          "base_uri": "https://localhost:8080/",
          "height": 34
        },
        "outputId": "bea48fd3-e415-4ecd-8836-3f4ec7ed3904"
      },
      "source": [
        "from sklearn.naive_bayes import GaussianNB\n",
        "clf_nb = GaussianNB()\n",
        "clf_nb.fit(x_train,y_train)"
      ],
      "execution_count": null,
      "outputs": [
        {
          "output_type": "execute_result",
          "data": {
            "text/plain": [
              "GaussianNB(priors=None, var_smoothing=1e-09)"
            ]
          },
          "metadata": {
            "tags": []
          },
          "execution_count": 113
        }
      ]
    },
    {
      "cell_type": "code",
      "metadata": {
        "id": "k4hi6EihqIUK"
      },
      "source": [
        "y_pred_nb = clf_nb.predict(x_train)"
      ],
      "execution_count": null,
      "outputs": []
    },
    {
      "cell_type": "code",
      "metadata": {
        "id": "wngrDCAgqQos",
        "colab": {
          "base_uri": "https://localhost:8080/",
          "height": 51
        },
        "outputId": "add45034-a008-4c1c-d1c3-cb221023ca9a"
      },
      "source": [
        "from sklearn.metrics import confusion_matrix,accuracy_score\n",
        "print(confusion_matrix(y_train,y_pred_nb))"
      ],
      "execution_count": null,
      "outputs": [
        {
          "output_type": "stream",
          "text": [
            "[[337  55]\n",
            " [ 95 136]]\n"
          ],
          "name": "stdout"
        }
      ]
    },
    {
      "cell_type": "code",
      "metadata": {
        "id": "4PPGdJizqU0J",
        "colab": {
          "base_uri": "https://localhost:8080/",
          "height": 34
        },
        "outputId": "6b311dea-05df-4e75-a4d6-f549c9135803"
      },
      "source": [
        "np.set_printoptions(precision=2)\n",
        "print(accuracy_score(y_train,y_pred_nb)*100)"
      ],
      "execution_count": null,
      "outputs": [
        {
          "output_type": "stream",
          "text": [
            "75.92295345104334\n"
          ],
          "name": "stdout"
        }
      ]
    },
    {
      "cell_type": "markdown",
      "metadata": {
        "id": "JGYGPG9Aqs-0"
      },
      "source": [
        "#Logistic Regression"
      ]
    },
    {
      "cell_type": "code",
      "metadata": {
        "id": "peUnujVYqwYp",
        "colab": {
          "base_uri": "https://localhost:8080/",
          "height": 102
        },
        "outputId": "02f2e686-11ae-4956-93a9-6875e44b31d4"
      },
      "source": [
        "from sklearn.linear_model import LogisticRegression\n",
        "clf_reg = LogisticRegression()\n",
        "clf_reg.fit(x_train,y_train)"
      ],
      "execution_count": null,
      "outputs": [
        {
          "output_type": "execute_result",
          "data": {
            "text/plain": [
              "LogisticRegression(C=1.0, class_weight=None, dual=False, fit_intercept=True,\n",
              "                   intercept_scaling=1, l1_ratio=None, max_iter=100,\n",
              "                   multi_class='auto', n_jobs=None, penalty='l2',\n",
              "                   random_state=None, solver='lbfgs', tol=0.0001, verbose=0,\n",
              "                   warm_start=False)"
            ]
          },
          "metadata": {
            "tags": []
          },
          "execution_count": 117
        }
      ]
    },
    {
      "cell_type": "code",
      "metadata": {
        "id": "oPsblLhyrBab"
      },
      "source": [
        "y_pred_re = clf_reg.predict(x_test)"
      ],
      "execution_count": null,
      "outputs": []
    },
    {
      "cell_type": "code",
      "metadata": {
        "id": "N472xz0hrHZb",
        "colab": {
          "base_uri": "https://localhost:8080/",
          "height": 51
        },
        "outputId": "12ce2201-d555-4af6-b58b-a990e5b9c06f"
      },
      "source": [
        "from sklearn.metrics import confusion_matrix,accuracy_score\n",
        "print(confusion_matrix(y_test,y_pred_re))"
      ],
      "execution_count": null,
      "outputs": [
        {
          "output_type": "stream",
          "text": [
            "[[132  25]\n",
            " [ 37  74]]\n"
          ],
          "name": "stdout"
        }
      ]
    },
    {
      "cell_type": "code",
      "metadata": {
        "id": "YxG3zSM1rOpF",
        "colab": {
          "base_uri": "https://localhost:8080/",
          "height": 34
        },
        "outputId": "7f5bcda2-cd3b-4afd-ae31-2b2454c21ee4"
      },
      "source": [
        "np.set_printoptions(precision=2)\n",
        "print(accuracy_score(y_test,y_pred_re)*100)"
      ],
      "execution_count": null,
      "outputs": [
        {
          "output_type": "stream",
          "text": [
            "76.86567164179104\n"
          ],
          "name": "stdout"
        }
      ]
    },
    {
      "cell_type": "markdown",
      "metadata": {
        "id": "FW_t3npteJ_P"
      },
      "source": [
        "#RandomForest"
      ]
    },
    {
      "cell_type": "code",
      "metadata": {
        "id": "MPqC-72ZeMVP",
        "colab": {
          "base_uri": "https://localhost:8080/",
          "height": 153
        },
        "outputId": "b1353e2f-4291-4a2f-e981-41d42aa89784"
      },
      "source": [
        "from sklearn.ensemble import RandomForestClassifier\n",
        "classifier = RandomForestClassifier(n_estimators=150,criterion='entropy')\n",
        "classifier.fit(x_train,y_train)"
      ],
      "execution_count": null,
      "outputs": [
        {
          "output_type": "execute_result",
          "data": {
            "text/plain": [
              "RandomForestClassifier(bootstrap=True, ccp_alpha=0.0, class_weight=None,\n",
              "                       criterion='entropy', max_depth=None, max_features='auto',\n",
              "                       max_leaf_nodes=None, max_samples=None,\n",
              "                       min_impurity_decrease=0.0, min_impurity_split=None,\n",
              "                       min_samples_leaf=1, min_samples_split=2,\n",
              "                       min_weight_fraction_leaf=0.0, n_estimators=150,\n",
              "                       n_jobs=None, oob_score=False, random_state=None,\n",
              "                       verbose=0, warm_start=False)"
            ]
          },
          "metadata": {
            "tags": []
          },
          "execution_count": 129
        }
      ]
    },
    {
      "cell_type": "code",
      "metadata": {
        "id": "9rmyzUYyes_d",
        "colab": {
          "base_uri": "https://localhost:8080/",
          "height": 51
        },
        "outputId": "bddffd75-5f3a-45e0-b0fb-c2a1ca88905d"
      },
      "source": [
        "y_pred_for = classifier.predict(x_test)\n",
        "print(confusion_matrix(y_pred_for,y_test))"
      ],
      "execution_count": null,
      "outputs": [
        {
          "output_type": "stream",
          "text": [
            "[[121  22]\n",
            " [ 36  89]]\n"
          ],
          "name": "stdout"
        }
      ]
    },
    {
      "cell_type": "code",
      "metadata": {
        "id": "jhR3P4F8fDC7",
        "colab": {
          "base_uri": "https://localhost:8080/",
          "height": 34
        },
        "outputId": "147d5012-1d76-456d-c716-1e94ccf5e348"
      },
      "source": [
        "print(accuracy_score(y_pred_for,y_test))"
      ],
      "execution_count": null,
      "outputs": [
        {
          "output_type": "stream",
          "text": [
            "0.7835820895522388\n"
          ],
          "name": "stdout"
        }
      ]
    }
  ]
}